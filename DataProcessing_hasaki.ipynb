{
 "cells": [
  {
   "cell_type": "code",
   "execution_count": 1,
   "metadata": {},
   "outputs": [
    {
     "name": "stdout",
     "output_type": "stream",
     "text": [
      "Requirement already satisfied: beautifulsoup4 in /Library/Frameworks/Python.framework/Versions/3.12/lib/python3.12/site-packages (4.12.3)\n",
      "Requirement already satisfied: pandas in /Library/Frameworks/Python.framework/Versions/3.12/lib/python3.12/site-packages (2.2.2)\n",
      "Requirement already satisfied: soupsieve>1.2 in /Library/Frameworks/Python.framework/Versions/3.12/lib/python3.12/site-packages (from beautifulsoup4) (2.5)\n",
      "Requirement already satisfied: numpy>=1.26.0 in /Library/Frameworks/Python.framework/Versions/3.12/lib/python3.12/site-packages (from pandas) (1.26.4)\n",
      "Requirement already satisfied: python-dateutil>=2.8.2 in /Users/lehoanganh/Library/Python/3.12/lib/python/site-packages (from pandas) (2.8.2)\n",
      "Requirement already satisfied: pytz>=2020.1 in /Library/Frameworks/Python.framework/Versions/3.12/lib/python3.12/site-packages (from pandas) (2024.1)\n",
      "Requirement already satisfied: tzdata>=2022.7 in /Library/Frameworks/Python.framework/Versions/3.12/lib/python3.12/site-packages (from pandas) (2024.1)\n",
      "Requirement already satisfied: six>=1.5 in /Users/lehoanganh/Library/Python/3.12/lib/python/site-packages (from python-dateutil>=2.8.2->pandas) (1.16.0)\n",
      "\n",
      "\u001b[1m[\u001b[0m\u001b[34;49mnotice\u001b[0m\u001b[1;39;49m]\u001b[0m\u001b[39;49m A new release of pip is available: \u001b[0m\u001b[31;49m23.2.1\u001b[0m\u001b[39;49m -> \u001b[0m\u001b[32;49m24.0\u001b[0m\n",
      "\u001b[1m[\u001b[0m\u001b[34;49mnotice\u001b[0m\u001b[1;39;49m]\u001b[0m\u001b[39;49m To update, run: \u001b[0m\u001b[32;49mpip3 install --upgrade pip\u001b[0m\n",
      "Note: you may need to restart the kernel to use updated packages.\n"
     ]
    }
   ],
   "source": [
    "pip install beautifulsoup4 pandas"
   ]
  },
  {
   "cell_type": "code",
   "execution_count": 2,
   "metadata": {},
   "outputs": [],
   "source": [
    "from bs4 import BeautifulSoup\n",
    "import pandas as pd"
   ]
  },
  {
   "cell_type": "code",
   "execution_count": 3,
   "metadata": {},
   "outputs": [],
   "source": [
    "with open('Crawl/Data/hasakitest.html', 'r') as file:\n",
    "    html_content = file.read()"
   ]
  },
  {
   "cell_type": "code",
   "execution_count": 4,
   "metadata": {},
   "outputs": [],
   "source": [
    "soup = BeautifulSoup(html_content, 'html.parser') "
   ]
  },
  {
   "cell_type": "code",
   "execution_count": 5,
   "metadata": {},
   "outputs": [
    {
     "data": {
      "text/plain": [
       "<title>Mua Nước Hoa Chính Hãng 100% Tại Hasaki.vn | Hasaki.vn</title>"
      ]
     },
     "execution_count": 5,
     "metadata": {},
     "output_type": "execute_result"
    }
   ],
   "source": [
    "soup.title"
   ]
  },
  {
   "cell_type": "code",
   "execution_count": 6,
   "metadata": {},
   "outputs": [
    {
     "data": {
      "text/plain": [
       "191"
      ]
     },
     "execution_count": 6,
     "metadata": {},
     "output_type": "execute_result"
    }
   ],
   "source": [
    "product = soup.find_all('div', class_ = 'ProductGridItem__itemOuter')\n",
    "len(product)"
   ]
  },
  {
   "cell_type": "code",
   "execution_count": 7,
   "metadata": {},
   "outputs": [],
   "source": [
    "data = {}\n",
    "df = pd.DataFrame(data)"
   ]
  },
  {
   "cell_type": "code",
   "execution_count": 8,
   "metadata": {},
   "outputs": [],
   "source": [
    "products = []\n",
    "class Product:\n",
    "    def __init__(self, name, brand, pricenew, sale, priceold):\n",
    "        self.name = name\n",
    "        self.brand = brand\n",
    "        self.pricenew = pricenew\n",
    "        self.sale = sale\n",
    "        self.priceold = priceold\n",
    "    def __str__(self):\n",
    "        return f\"Name: {self.name}, Brand: {self.brand}, Price old: {self.priceold}, Sale: {self.sale}, Price new: {self.pricenew}\""
   ]
  },
  {
   "cell_type": "code",
   "execution_count": 9,
   "metadata": {},
   "outputs": [],
   "source": [
    "for item in product:\n",
    "    name = item.find('div', class_ = 'vn_names')\n",
    "    if name:\n",
    "        name = name.text.strip()\n",
    "    else:\n",
    "        name = None\n",
    "\n",
    "    brand = item.find('div', class_='en_names')\n",
    "    if brand:\n",
    "        brand = brand.text.strip()\n",
    "    else:\n",
    "        brand = None\n",
    "\n",
    "    pricenew = item.find('strong', class_='item_giamoi txt_16')\n",
    "    if pricenew:\n",
    "        pricenew = pricenew.text.strip()\n",
    "    else:\n",
    "        pricenew = None\n",
    "    sale = item.find('span', class_ = 'discount_percent2_deal')\n",
    "    if sale:\n",
    "        sale = sale.text.strip()\n",
    "    else: \n",
    "        sale = None\n",
    "    priceold = item.find('span', class_ = 'item_giacu txt_12 right')\n",
    "    if priceold:\n",
    "        priceold = priceold.text.strip()\n",
    "    else:\n",
    "        priceold = None\n",
    "    # Tạo một đối tượng Product mới và thêm vào danh sách products\n",
    "    products.append(Product(name, brand, pricenew, sale, priceold))"
   ]
  },
  {
   "cell_type": "code",
   "execution_count": 10,
   "metadata": {},
   "outputs": [
    {
     "name": "stdout",
     "output_type": "stream",
     "text": [
      "Name: Nước Hoa Nữ Diamond Femme 45ml (Trắng), Brand: Eau De Parfum, Price old: 549.000 ₫, Sale: 45%, Price new: 301.000 ₫\n",
      "Name: Nước Hoa Vùng Kín Foellie Hương Hoa Hồng Mạnh Mẽ 5ml, Brand: Inner Perfume #Eau De Bijou, Price old: 350.000 ₫, Sale: 59%, Price new: 144.000 ₫\n",
      "Name: Nước Hoa Nữ Diamond Femme Pink 45ml (Hồng), Brand: Eau De Parfum, Price old: 549.000 ₫, Sale: 50%, Price new: 275.000 ₫\n",
      "Name: Nước Hoa Nam Diamond Homme 45ml (Đen), Brand: Eau De Parfum, Price old: 549.000 ₫, Sale: 50%, Price new: 275.000 ₫\n",
      "Name: Nước Hoa Nữ Diamond Femme Ruby Red 45ml (Đỏ), Brand: Eau De Parfum, Price old: 549.000 ₫, Sale: 45%, Price new: 301.000 ₫\n",
      "Name: Nước Hoa Nữ Gennie Little Gold Dress 50ml, Brand: Little Gold Dress, Price old: 219.000 ₫, Sale: 33%, Price new: 146.000 ₫\n",
      "Name: Nước Hoa Vùng Kín Foellie Hương Trái Cây Ngọt Ngào 5ml, Brand: Inner Perfume #Eau De Fleur, Price old: 350.000 ₫, Sale: 49%, Price new: 179.000 ₫\n",
      "Name: Nước Hoa Nữ Gennie Little Black Dress 50ml, Brand: Little Black Dress, Price old: 219.000 ₫, Sale: 33%, Price new: 146.000 ₫\n",
      "Name: Xịt Thơm Toàn Thân Malissa Kiss Hương Crazy in Love 88ml, Brand: Perfume Body Mist, Price old: 169.000 ₫, Sale: 21%, Price new: 134.000 ₫\n",
      "Name: Combo Gennie Nước Hoa + Sữa Tắm Little Red Dress 50ml + 450ml, Brand: , Price old: 378.000 ₫, Sale: 42%, Price new: 219.000 ₫\n",
      "Name: Nước Hoa Nữ De Memoria EDP #05 Montpellier 30ml, Brand: Eau De Parfum, Price old: 550.000 ₫, Sale: 36%, Price new: 354.000 ₫\n",
      "Name: Nước Hoa Nữ De Memoria #02 Val De Loire Hương Tươi Mát 30ml, Brand: Eau De Parfum, Price old: 550.000 ₫, Sale: 36%, Price new: 354.000 ₫\n",
      "Name: Xịt Thơm Toàn Thân Bodymiss Hương Stop & Stare 35ml, Brand: , Price old: 79.000 ₫, Sale: 32%, Price new: 54.000 ₫\n",
      "Name: Nước Hoa Nữ Gennie Little Red Dress 50ml, Brand: Little Red Dress, Price old: 219.000 ₫, Sale: 50%, Price new: 110.000 ₫\n",
      "Name: Nước Hoa Nam Gota Iconic Eau de Parfum 50ml, Brand: Iconic Perfume For Men Eau de Parfum, Price old: 296.000 ₫, Sale: 50%, Price new: 148.000 ₫\n",
      "Name: Combo Gennie Nước Hoa + Sữa Tắm Little Gold Dress 50ml + 450ml, Brand: , Price old: 378.000 ₫, Sale: 42%, Price new: 219.000 ₫\n",
      "Name: Nước Hoa Nữ De Memoria EDP #04 Dresden 30ml, Brand: Eau De Parfum, Price old: 550.000 ₫, Sale: 36%, Price new: 354.000 ₫\n",
      "Name: Nước Hoa Vùng Kín Foellie Hương Hoa Hồng Trắng 5ml, Brand: Inner Perfume #Eau De Ciel, Price old: 350.000 ₫, Sale: 49%, Price new: 179.000 ₫\n",
      "Name: Nước Hoa Nam Diamond Homme Dark Blue 45ml (Xanh), Brand: Eau De Parfum, Price old: 549.000 ₫, Sale: 45%, Price new: 301.000 ₫\n",
      "Name: Nước Hoa Nữ Gennie Little Rose Dress Bản Giới Hạn 50ml, Brand: Little Rose Dress For Her, Price old: 349.000 ₫, Sale: 50%, Price new: 175.000 ₫\n",
      "Name: Nước Hoa Vùng Kín Foellie Hoa Đinh Hương Bản Giới Hạn 5ml, Brand: Inner Perfume #Eau De Tuileries, Price old: 350.000 ₫, Sale: 46%, Price new: 189.000 ₫\n",
      "Name: Nước Hoa Nữ Versace Bright Crystal Absolu EDP 90ml, Brand: Bright Crystal Absolu Eau de Parfum Natural Spray, Price old: 2.915.000 ₫, Sale: 39%, Price new: 1.789.000 ₫\n",
      "Name: Nước Hoa Nam Diamond Homme Brown 45ml (Nâu), Brand: Eau De Parfum, Price old: 499.000 ₫, Sale: 40%, Price new: 301.000 ₫\n",
      "Name: Nước Hoa Nữ Carolina Herrera Good Girl EDP 30ml, Brand: Good Girl Eau De Parfum Natural Spray, Price old: 2.010.000 ₫, Sale: 10%, Price new: 1.809.000 ₫\n",
      "Name: Xịt Thơm Toàn Thân Malissa Kiss Hương Sweet Poison 88ml, Brand: Perfume Mist, Price old: 169.000 ₫, Sale: 21%, Price new: 134.000 ₫\n",
      "Name: Xịt Thơm Toàn Thân Malissa Kiss Hương Adore You 88ml, Brand: Perfume Mist, Price old: 169.000 ₫, Sale: 21%, Price new: 134.000 ₫\n",
      "Name: Nước Hoa Nam Versace Pour Homme EDT 50ml, Brand: Pour Homme Eau De Toilette Spray, Price old: 1.782.000 ₫, Sale: 19%, Price new: 1.443.000 ₫\n",
      "Name: Nước Hoa Nữ Laura Anne Allure For Her 50ml (Hồng), Brand: Eau de Parfum, Price old: 299.000 ₫, Sale: 38%, Price new: 184.000 ₫\n",
      "Name: Nước Hoa Nữ Lancôme La Nuit Tresor EDP 75ml, Brand: La Nuit Tresor Eau De Parfum, Price old: 3.100.000 ₫, Sale: 9%, Price new: 2.820.000 ₫\n",
      "Name: Nước Hoa Nam Paco Rabanne 1 Million Parfum EDP 100ml, Brand: 1 Million Parfum EDP, Price old: 3.360.000 ₫, Sale: 10%, Price new: 3.024.000 ₫\n",
      "Name: Xịt Thơm Toàn Thân Malissa Kiss Hương Nước Hoa Passion 88ml, Brand: Perfume Mist, Price old: 169.000 ₫, Sale: 21%, Price new: 134.000 ₫\n",
      "Name: Nước Hoa Nữ Versace Bright Crystal EDT 50ml, Brand: Bright Crystal Eau de Toilette Spray, Price old: 2.905.000 ₫, Sale: 59%, Price new: 1.190.000 ₫\n",
      "Name: Nước Hoa Vùng Kín Foellie Hương Hoa Nhài Bản Giới Hạn 5ml, Brand: Inner Perfume #Eau De Venus, Price old: 350.000 ₫, Sale: 53%, Price new: 164.000 ₫\n",
      "Name: Nước Hoa Nữ De Memoria EDP #03 Granada 30ml, Brand: Eau De Parfum, Price old: 550.000 ₫, Sale: 36%, Price new: 354.000 ₫\n",
      "Name: Nước Hoa Nữ De Memoria EDP #06 Grasse 30ml, Brand: Eau De Parfum, Price old: 550.000 ₫, Sale: 36%, Price new: 354.000 ₫\n",
      "Name: Nước Hoa Nữ Verites After The Rain 50ml, Brand: After The Rain Inspired By My Burberry, Price old: 239.000 ₫, Sale: 20%, Price new: 191.000 ₫\n",
      "Name: Nước Hoa Nam Versace Eros Flame EDP 100ml, Brand: Eros Flame Eau de Parfum Spray, Price old: 2.761.000 ₫, Sale: 19%, Price new: 2.236.000 ₫\n",
      "Name: Xịt Thơm Toàn Thân Malissa Kiss Hương Lost In Paradise 88ml, Brand: Perfume Body Mist, Price old: 169.000 ₫, Sale: 21%, Price new: 134.000 ₫\n",
      "Name: Xịt Thơm Toàn Thân Malissa Kiss Hương Nước Hoa Delight 88ml, Brand: Perfume Mist, Price old: 169.000 ₫, Sale: 21%, Price new: 134.000 ₫\n",
      "Name: Xịt Thơm Toàn Thân Malissa Kiss Hương Fresh Escape 88ml, Brand: Perfume Mist, Price old: 169.000 ₫, Sale: 50%, Price new: 84.000 ₫\n",
      "Name: Nước Hoa Nam Gota Urban Eau de Parfum 50ml, Brand: Urban Perfume For Men Eau de Parfum, Price old: 296.000 ₫, Sale: 30%, Price new: 208.000 ₫\n",
      "Name: Xịt Thơm Toàn Thân Malissa Kiss Sweet Vanilla Cotton 88ml, Brand: Perfume Body Mist, Price old: 169.000 ₫, Sale: 21%, Price new: 134.000 ₫\n",
      "Name: Nước Hoa Nữ De Memoria #01 Spello Hương Mê Hoặc 30ml, Brand: Eau De Parfum, Price old: 550.000 ₫, Sale: 36%, Price new: 353.000 ₫\n",
      "Name: Nước Hoa Vùng Kín Foellie Hương Gỗ Tươi Mát 5ml, Brand: Inner Perfume #Eau De Foret, Price old: 215.000 ₫, Sale: 17%, Price new: 179.000 ₫\n",
      "Name: Nước Hoa Nam Nữ Verites Siren 50ml, Brand: Siren Inspired By Good Girl Velvet Fatale, Price old: 239.000 ₫, Sale: 20%, Price new: 191.000 ₫\n",
      "Name: Xịt Thơm Toàn Thân Bodymiss Hương Funky Fresh 105ml, Brand: , Price old: 156.000 ₫, Sale: 30%, Price new: 109.000 ₫\n",
      "Name: Bộ 3 Chai Nước Hoa Nam Nerman 4000 10ml/chai, Brand: Hương Thơm Mạnh Mẽ Lôi Cuốn, Lưu Hương Tới 8H, Price old: 499.000 ₫, Sale: 5%, Price new: 476.000 ₫\n",
      "Name: Xịt Thơm Toàn Thân Và Tóc Silkygirl Hương Love Bloom 50ml, Brand: Fragrance Mist Hair And Body #Love Bloom, Price old: 99.000 ₫, Sale: 1%, Price new: 98.000 ₫\n",
      "Name: Xịt Thơm Toàn Thân Malissa Kiss Hương Nước Hoa Charm 88ml, Brand: Perfume Mist, Price old: 169.000 ₫, Sale: 21%, Price new: 134.000 ₫\n",
      "Name: Nước Hoa Vùng Kín Foellie Hương Hoa Anh Đào 5ml, Brand: Inner Perfume #Eau De Cherry Blossom, Price old: 350.000 ₫, Sale: 49%, Price new: 179.000 ₫\n",
      "Name: Nước Hoa Nữ Verites Joie De Vivre 50ml, Brand: Joie De Vivre Inspired by Miss Dior, Price old: 239.000 ₫, Sale: 20%, Price new: 191.000 ₫\n",
      "Name: Nước Hoa Nam Laura Anne Mystic For Him 50ml (Đen), Brand: Eau de Parfum, Price old: 299.000 ₫, Sale: 38%, Price new: 184.000 ₫\n",
      "Name: Nước Hoa Vùng Kín Nữ Loli And The Wolf Midnight Forest 8ml, Brand: Hương Hoa Ngọt Ngào Quyến Rũ Lãng Mạn, Price old: 300.000 ₫, Sale: 17%, Price new: 248.000 ₫\n",
      "Name: Xịt Thơm Toàn Thân Bodymiss Hương Funky Fresh 35ml, Brand: , Price old: 79.000 ₫, Sale: 32%, Price new: 54.000 ₫\n",
      "Name: Nước Hoa Nữ Verites Secretly Sexy 50ml, Brand: Secretly Sexy Inspired By Victoria's Secret Very Sexy, Price old: 239.000 ₫, Sale: 20%, Price new: 191.000 ₫\n",
      "Name: Nước Hoa Nam Verites Savage Trail 50ml, Brand: Savage Trail Inspired by Dior Sauvage, Price old: 239.000 ₫, Sale: 20%, Price new: 191.000 ₫\n",
      "Name: Xịt Thơm Toàn Thân Và Tóc Silkygirl Hương Magic Dream 50ml, Brand: Fragrance Mist Hair And Body #Magic Dream, Price old: 99.000 ₫, Sale: 1%, Price new: 98.000 ₫\n",
      "Name: Xịt Thơm Toàn Thân Bodymiss Hương Stop & Stare 105ml, Brand: , Price old: 156.000 ₫, Sale: 30%, Price new: 109.000 ₫\n",
      "Name: Nước Hoa Vùng Kín Foellie Hương Hoa Ngọc Lan Tây 5ml, Brand: Inner Perfume #Eau De Bebe, Price old: 350.000 ₫, Sale: 49%, Price new: 179.000 ₫\n",
      "Name: Xịt Thơm Toàn Thân Bodymiss Hương Blinded Love 35ml, Brand: , Price old: 79.000 ₫, Sale: 32%, Price new: 54.000 ₫\n",
      "Name: Xịt Thơm Toàn Thân Bodymiss Hương Hide & Seek 35ml, Brand: , Price old: 79.000 ₫, Sale: 32%, Price new: 54.000 ₫\n",
      "Name: Nước Hoa Nam Nữ De Memoria EDP #09 Lampang 30ml, Brand: Eau De Parfum, Price old: 550.000 ₫, Sale: 33%, Price new: 370.000 ₫\n",
      "Name: Nước Hoa Vùng Kín Foellie Hương Dâu Tây Bản XO Giới Hạn 5ml, Brand: Inner Perfume #Eau De Miel, Price old: 350.000 ₫, Sale: 49%, Price new: 179.000 ₫\n",
      "Name: Xịt Thơm Toàn Thân Bodymiss Hương Hide & Seek 105ml, Brand: , Price old: 156.000 ₫, Sale: 30%, Price new: 109.000 ₫\n",
      "Name: Nước Hoa Nam Laura Anne Allure For Him 50ml (Đỏ), Brand: Eau de Parfum, Price old: 299.000 ₫, Sale: 50%, Price new: 149.000 ₫\n",
      "Name: Nước Hoa Vùng Kín Foellie Hương Biển Thơm Mát 5ml, Brand: Inner Perfume #Eau De Vogue, Price old: 215.000 ₫, Sale: 17%, Price new: 179.000 ₫\n",
      "Name: Xịt Thơm Toàn Thân Malissa Kiss Hương Happy Sundae 88ml, Brand: Perfume Mist, Price old: 169.000 ₫, Sale: 50%, Price new: 84.000 ₫\n",
      "Name: Nước Hoa Nữ Verites Her Summer Nữ Tính, Dịu Dàng 50ml, Brand: , Price old: 289.000 ₫, Sale: 20%, Price new: 231.000 ₫\n",
      "Name: Xịt Thơm Toàn Thân Bodymiss Hương Care Free 35ml, Brand: , Price old: 79.000 ₫, Sale: 32%, Price new: 54.000 ₫\n",
      "Name: Nước Hoa Nam Nữ De Memoria EDP #10 Jiufen 30ml, Brand: Eau De Parfum, Price old: 550.000 ₫, Sale: 36%, Price new: 354.000 ₫\n",
      "Name: Xịt Thơm Toàn Thân Bodymiss Hương Money Honey 105ml, Brand: , Price old: 156.000 ₫, Sale: 30%, Price new: 109.000 ₫\n",
      "Name: Xịt Thơm Toàn Thân Malissa Kiss Hương Call Me Maybe 88ml, Brand: Perfume Mist, Price old: 169.000 ₫, Sale: 21%, Price new: 134.000 ₫\n",
      "Name: Xịt Thơm Toàn Thân Malissa Kiss Hương Nước Hoa Tender 88ml, Brand: Perfume Mist, Price old: 169.000 ₫, Sale: 21%, Price new: 134.000 ₫\n",
      "Name: Xịt Thơm Toàn Thân Malissa Kiss Hương Cozy Beach 88ml, Brand: Perfume Mist, Price old: 169.000 ₫, Sale: 50%, Price new: 84.000 ₫\n",
      "Name: Combo Gennie Nước Hoa + Sữa Tắm Little Black Dress 50ml + 450ml, Brand: , Price old: 378.000 ₫, Sale: 42%, Price new: 219.000 ₫\n",
      "Name: Nước Hoa Nam Nữ Verites Santal Lab 50ml, Brand: Santal Lab Inspired By Le Labo Santal 33, Price old: None, Sale: None, Price new: 239.000 ₫\n",
      "Name: Xịt Thơm Toàn Thân Malissa Kiss Hương Nước Hoa Fierce 88ml, Brand: Perfume Mist, Price old: 169.000 ₫, Sale: 21%, Price new: 134.000 ₫\n",
      "Name: Xịt Thơm Toàn Thân Bodymiss Hương Money Honey 35ml, Brand: , Price old: 79.000 ₫, Sale: 32%, Price new: 54.000 ₫\n",
      "Name: Combo 2 Xịt Thơm Toàn Thân Và Tóc Silkygirl Hương Love Bloom + Floral Blush 50ml, Brand: Fragrance Mist Hair And Body #Love Bloom & #Floral Blush, Price old: 176.000 ₫, Sale: 9%, Price new: 160.000 ₫\n",
      "Name: [Mini] Nước Hoa Nam Calvin Klein Defy For Men EDT 10ml, Brand: Defy For Men Eau de Toilette, Price old: None, Sale: None, Price new: 380.000 ₫\n",
      "Name: Nước Hoa Nữ Gennie Little Rose Dress Bản Giới Hạn 10ml, Brand: Little Rose Dress For Her, Price old: 179.000 ₫, Sale: 50%, Price new: 90.000 ₫\n",
      "Name: Nước Hoa Nữ De Memoria EDP #07 Hoian 30ml, Brand: Eau De Parfum, Price old: 550.000 ₫, Sale: 36%, Price new: 354.000 ₫\n",
      "Name: Nước Hoa Vùng Kín Foellie Cherry Đen Bản Giới Hạn 5ml, Brand: Inner Perfume #Eau De Noir, Price old: 350.000 ₫, Sale: 54%, Price new: 160.000 ₫\n",
      "Name: Nước Hoa Nữ Verites Beach Bomb Nhẹ Nhàng, Tươi Mát 50ml, Brand: , Price old: 289.000 ₫, Sale: 20%, Price new: 231.000 ₫\n",
      "Name: Nước Hoa Nam Verites De Club Cuốn Hút, Lịch Lãm 50ml, Brand: , Price old: 289.000 ₫, Sale: 20%, Price new: 231.000 ₫\n",
      "Name: Combo 2 Xịt Thơm Toàn Thân Và Tóc Silkygirl Hương Magic Dream + Love Bloom 50ml, Brand: Fragrance Mist Hair And Body #Magic Dream & #Love Bloom, Price old: 198.000 ₫, Sale: 7%, Price new: 184.000 ₫\n",
      "Name: Xịt Thơm Toàn Thân Và Tóc Silkygirl Hương Floral Blush 50ml, Brand: Fragrance Mist Hair And Body #Floral Blush, Price old: 99.000 ₫, Sale: 1%, Price new: 98.000 ₫\n",
      "Name: Nước Hoa Unisex Verites Chasing Cloud Tươi Mới 50ml, Brand: , Price old: 289.000 ₫, Sale: 20%, Price new: 231.000 ₫\n",
      "Name: Nước Hoa Nữ Laura Anne Mystic For Her 50ml (Xám), Brand: Eau de Parfum, Price old: 299.000 ₫, Sale: 37%, Price new: 187.000 ₫\n",
      "Name: Nước Hoa Nam Laura Anne Dynamic For Him 50ml (Xanh), Brand: Dynamic For Him, Price old: 299.000 ₫, Sale: 25%, Price new: 223.000 ₫\n",
      "Name: Xịt Thơm Toàn Thân Malissa Kiss Hương Nước Hoa Desire 88ml, Brand: Perfume Mist, Price old: 169.000 ₫, Sale: 21%, Price new: 134.000 ₫\n",
      "Name: Xịt Thơm Toàn Thân Malissa Kiss Hương Nước Hoa Sweetie 88ml, Brand: Perfume Mist, Price old: 169.000 ₫, Sale: 21%, Price new: 134.000 ₫\n",
      "Name: Xịt Thơm Toàn Thân Malissa Kiss Hương Nước Hoa Hottie 88ml, Brand: Perfume Mist, Price old: 169.000 ₫, Sale: 21%, Price new: 134.000 ₫\n",
      "Name: Xịt Thơm Toàn Thân Kiss My Body Sweetie 88ml, Brand: Perfume Mist, Price old: 169.000 ₫, Sale: 1%, Price new: 168.000 ₫\n",
      "Name: Nước Hoa Nữ Armaf Club De Nuit Woman 105ml, Brand: Club De Nuit Woman EDP, Price old: 890.000 ₫, Sale: 29%, Price new: 628.000 ₫\n",
      "Name: Xịt Thơm Toàn Thân Kiss My Body Hương Crazy In Love 88ml, Brand: Perfume Mist, Price old: 169.000 ₫, Sale: 15%, Price new: 143.000 ₫\n",
      "Name: Xịt Thơm Toàn Thân Kiss My Body Sweet Vanilla Cotton 88ml, Brand: Perfume Mist, Price old: 169.000 ₫, Sale: 15%, Price new: 143.000 ₫\n",
      "Name: Xịt Thơm Toàn Thân Kiss My Body Hương Delight 88ml, Brand: Perfume Mist, Price old: 169.000 ₫, Sale: 15%, Price new: 143.000 ₫\n",
      "Name: Combo 2 Xịt Thơm Toàn Thân Và Tóc Silkygirl Hương Magic Dream + Floral Blush 50ml, Brand: Fragrance Mist Hair And Body #Magic Dream & #Floral Blush, Price old: 198.000 ₫, Sale: 7%, Price new: 184.000 ₫\n",
      "Name: Nước Hoa Nữ Narciso Rodriguez Musc Noir For Her EDP 30ml, Brand: Eau De Parfum, Price old: 1.940.000 ₫, Sale: 10%, Price new: 1.746.000 ₫\n",
      "Name: Nước Hoa Nữ Chloé Love Story EDP 30ml, Brand: Eau De Parfum, Price old: 2.360.000 ₫, Sale: 29%, Price new: 1.685.000 ₫\n",
      "Name: Nước Hoa Nữ Narciso Rodriguez For Her EDP 30ml, Brand: Eau De Parfum, Price old: 1.940.000 ₫, Sale: 10%, Price new: 1.746.000 ₫\n",
      "Name: Nước Hoa Nữ Narciso Rodriguez Ambrée EDP 30ml, Brand: Eau De Parfum, Price old: 1.970.000 ₫, Sale: 15%, Price new: 1.674.000 ₫\n",
      "Name: Nước Hoa Nữ Narciso Rodriguez Pure Musc For Her EDP 30ml, Brand: Eau De Parfum, Price old: 1.940.000 ₫, Sale: 10%, Price new: 1.746.000 ₫\n",
      "Name: Nước Hoa Nữ Narciso Rodriguez For Her EDP 50ml, Brand: Eau De Parfum, Price old: 2.900.000 ₫, Sale: 10%, Price new: 2.610.000 ₫\n",
      "Name: Nước Hoa Nữ Narciso Rodriguez For Her EDP 100ml, Brand: Eau De Parfum, Price old: 3.830.000 ₫, Sale: 10%, Price new: 3.447.000 ₫\n",
      "Name: Nước Hoa Nữ Narciso Rodriguez For Her EDT 100ml, Brand: Eau De Toilette, Price old: 3.470.000 ₫, Sale: 29%, Price new: 2.475.000 ₫\n",
      "Name: Nước Hoa Nữ Marc Jacobs Daisy Ever So Fresh EDP 30ml, Brand: Eau De Parfum, Price old: 2.220.000 ₫, Sale: 19%, Price new: 1.800.000 ₫\n",
      "Name: Nước Hoa Nữ Narciso Rodriguez For Her EDT 50ml, Brand: Eau De Toilette, Price old: 2.610.000 ₫, Sale: 35%, Price new: 1.690.000 ₫\n",
      "Name: Nước Hoa Nữ Narciso Rodriguez Pure Musc For Her EDP 100ml, Brand: Eau De Parfum, Price old: 3.830.000 ₫, Sale: 5%, Price new: 3.637.000 ₫\n",
      "Name: Nước Hoa Nam Tommy Impact Intense EDP 50ml, Brand: Impact Intense Eau De Perfume, Price old: None, Sale: None, Price new: 2.250.000 ₫\n",
      "Name: Nước Hoa Nam De Memoria EDP #12 Bagan 30ml, Brand: Eau De Parfum, Price old: 550.000 ₫, Sale: 33%, Price new: 370.000 ₫\n",
      "Name: Nước Hoa Nữ Carolina Herrera Very Good Girl Glam EDP 80ml, Brand: Very Good Girl Glam Eau De Parfum, Price old: 4.370.000 ₫, Sale: 10%, Price new: 3.933.000 ₫\n",
      "Name: Nước Hoa Nữ Marc Jacobs Daisy Love EDT 30ml, Brand: Eau De Toilette, Price old: 1.940.000 ₫, Sale: 40%, Price new: 1.160.000 ₫\n",
      "Name: Nước Hoa Nữ Tommy Now Girl EDT 30ml, Brand: Now Girl Eau De Toilette, Price old: None, Sale: None, Price new: 1.360.000 ₫\n",
      "Name: Nước Hoa Nam Tommy Now EDT 30ml, Brand: Now Eau De Toilette, Price old: None, Sale: None, Price new: 1.360.000 ₫\n",
      "Name: Nước Hoa Nữ Carolina Herrera Very Good Girl EDP 30ml, Brand: Very Good Girl Eau De Parfum, Price old: 2.200.000 ₫, Sale: 10%, Price new: 1.980.000 ₫\n",
      "Name: Nước Hoa Nam TOMMY Cologne EDT 30ml, Brand: Cologne Spray, Price old: 1.360.000 ₫, Sale: 34%, Price new: 899.000 ₫\n",
      "Name: Nước Hoa Nữ Marc Jacobs Daisy Dream EDT 30ml, Brand: Eau De Toilette, Price old: 1.150.000 ₫, Sale: 14%, Price new: 989.000 ₫\n",
      "Name: Nước Hoa Nữ Issey Miyake L'Eau D'Issey EDT 50ml, Brand: Eau De Toilette, Price old: 2.260.000 ₫, Sale: 10%, Price new: 2.034.000 ₫\n",
      "Name: Nước Hoa Nam Issey Miyake L'Eau D'Issey Eau & Cèdre 100ml, Brand: Pour Homme Eau De Toilette Intense, Price old: 2.870.000 ₫, Sale: 10%, Price new: 2.583.000 ₫\n",
      "Name: Nước Hoa Nữ Issey Miyake A Drop D'Issey EDP 90ml, Brand: Eau De Parfum, Price old: 3.250.000 ₫, Sale: 10%, Price new: 2.925.000 ₫\n",
      "Name: Nước Hoa Nam Tommy Impact EDT 50ml, Brand: Impact Intense Eau De Toilette, Price old: None, Sale: None, Price new: 2.130.000 ₫\n",
      "Name: Nước Hoa Nam Calvin Klein Defy For Men EDT 30ml, Brand: Eau De Toilette, Price old: 1.290.000 ₫, Sale: 47%, Price new: 679.000 ₫\n",
      "Name: Nước Hoa Nữ Laura Anne Dynamic For Her 50ml (Xanh), Brand: Eau de Parfum, Price old: 299.000 ₫, Sale: 34%, Price new: 198.000 ₫\n",
      "Name: Nước Hoa Nữ Issey Miyake A Drop D'Issey EDP Fraiche 30ml, Brand: Eau De Parfum Fraiche, Price old: 1.690.000 ₫, Sale: 10%, Price new: 1.521.000 ₫\n",
      "Name: Nước Hoa Nam Nữ Calvin Klein One EDT 50ml, Brand: Eau De Toilette, Price old: 1.470.000 ₫, Sale: 45%, Price new: 813.000 ₫\n",
      "Name: Nước Hoa Nữ Tommy Girl Cologne EDT 30ml, Brand: Tommy Girl Cologne Eau de Toilette Spray, Price old: 1.360.000 ₫, Sale: 38%, Price new: 839.000 ₫\n",
      "Name: Nước Hoa Nữ Marc Jacobs Daisy Love Eau So Sweet EDT 30ml, Brand: Eau De Toilette, Price old: 1.940.000 ₫, Sale: 10%, Price new: 1.750.000 ₫\n",
      "Name: Nước Hoa Nữ Verites Starstruck Ngọt Ngào, Quyến Rũ 50ml, Brand: , Price old: 289.000 ₫, Sale: 20%, Price new: 231.000 ₫\n",
      "Name: Nước Hoa Nữ Verites Midnight Bloom Quyến Rũ, Thanh Lịch 50ml, Brand: , Price old: 289.000 ₫, Sale: 20%, Price new: 231.000 ₫\n",
      "Name: [HSD 02/2025] Nước Hoa Nam De Memoria EDP #12 Bagan 30ml, Brand: Eau De Parfum, Price old: None, Sale: None, Price new: 333.000 ₫\n",
      "Name: Nước Hoa Nam Nữ De Memoria EDP #11 Tai O 30ml, Brand: Eau De Parfum, Price old: 550.000 ₫, Sale: 36%, Price new: 354.000 ₫\n",
      "Name: Nước Hoa Nam Versace Eros Flame EDP 50ml, Brand: Eros Flame Eau de Parfum Spray, Price old: 2.189.000 ₫, Sale: 40%, Price new: 1.316.000 ₫\n",
      "Name: [HSD 06/2024] Xịt Thơm Toàn Thân Bodymiss Hương Money Honey 35ml, Brand: , Price old: 79.000 ₫, Sale: 44%, Price new: 44.000 ₫\n",
      "Name: Nước Hoa Nam Moschino Toy Boy EDP 100ml, Brand: , Price old: None, Sale: None, Price new: 2.255.000 ₫\n",
      "Name: Nước Hoa Nam Versace Pour Homme Dylan Blue EDT 100ml, Brand: Pour Homme Dylan Blue Eau De Toilette, Price old: 2.420.000 ₫, Sale: 25%, Price new: 1.815.000 ₫\n",
      "Name: Nước Hoa Nữ Jean Paul Gaultier Scandal EDP 30ml, Brand: Scandal Eau De Parfum Spray, Price old: 2.100.000 ₫, Sale: 10%, Price new: 1.890.000 ₫\n",
      "Name: Nước Hoa Nữ Chloé Nomade EDP 30ml, Brand: Eau De Parfum, Price old: 2.250.000 ₫, Sale: 18%, Price new: 1.850.000 ₫\n",
      "Name: Nước Hoa Nữ Burberry Her Blossom EDT 100ml, Brand: Her Blossom Eau de Toilette, Price old: 4.030.000 ₫, Sale: 33%, Price new: 2.703.000 ₫\n",
      "Name: [HSD 02/2025] Nước Hoa Nữ De Memoria EDP #07 Hoian 30ml, Brand: Eau De Parfum, Price old: None, Sale: None, Price new: 319.000 ₫\n",
      "Name: Nước Hoa Nữ Marc Jacobs Perfect EDP 100ml, Brand: Perfect Eau De Parfum, Price old: 4.110.000 ₫, Sale: 37%, Price new: 2.589.000 ₫\n",
      "Name: Nước Hoa Nữ Chloé L'Eau Eau De Toilette 100ml, Brand: L'Eau Eau De Toilette, Price old: 4.130.000 ₫, Sale: 31%, Price new: 2.835.000 ₫\n",
      "Name: Nước Hoa Nữ Chloé Nomade EDP 75ml, Brand: Eau De Parfum, Price old: 4.290.000 ₫, Sale: 32%, Price new: 2.932.000 ₫\n",
      "Name: Nước Hoa Nam Lacoste Match Point EDT 100ml, Brand: Match Point Eau de Toilette, Price old: 2.970.000 ₫, Sale: 40%, Price new: 1.788.000 ₫\n",
      "Name: Nước Hoa Nữ Signorina Misteriosa 100ml, Brand: Signorina Misteriosa Eau de Parfum, Price old: 2.330.000 ₫, Sale: 22%, Price new: 1.820.000 ₫\n",
      "Name: [HSD 06/2024] Xịt Thơm Toàn Thân Bodymiss Hương Blinded Love 35ml, Brand: , Price old: 79.000 ₫, Sale: 44%, Price new: 44.000 ₫\n",
      "Name: [HSD 03/2025] Nước Hoa Nữ Chloé L'Eau Eau De Toilette 100ml, Brand: L'Eau Eau De Toilette, Price old: 4.130.000 ₫, Sale: 45%, Price new: 2.268.000 ₫\n",
      "Name: Nước Hoa Nam Versace Man Eau Fraiche EDT 100ml, Brand: Eau Fraiche Eau De Toilette, Price old: 2.299.000 ₫, Sale: 19%, Price new: 1.862.000 ₫\n",
      "Name: Nước Hoa Nữ Moschino Toy 2 EDP 100ml, Brand: Toy 2 Eau De Parfum, Price old: 2.442.000 ₫, Sale: 37%, Price new: 1.540.000 ₫\n",
      "Name: Nước Hoa Nữ Burberry Her EDP 100ml, Brand: Her Eau De Parfum, Price old: 4.990.000 ₫, Sale: 41%, Price new: 2.967.000 ₫\n",
      "Name: [HSD 06/2024] Xịt Thơm Toàn Thân Bodymiss Hương Care Free 35ml, Brand: , Price old: 79.000 ₫, Sale: 44%, Price new: 44.000 ₫\n",
      "Name: Combo Nước Hoa 2 Đầu Silkygirl Hương 02 Love + 03 Joyful, Brand: EDP Duo Rollerball, Price old: 236.000 ₫, Sale: 10%, Price new: 212.000 ₫\n",
      "Name: Nước Hoa Nữ Versace Yellow Diamond EDT 90ml, Brand: Yellow Diamond Eau De Toilette Natural Spray, Price old: 2.706.000 ₫, Sale: 26%, Price new: 1.989.000 ₫\n",
      "Name: Nước Hoa Nam Versace Pour Homme Eau De Toilette 100ml, Brand: Pour Homme Eau De Toilette, Price old: 2.376.000 ₫, Sale: 35%, Price new: 1.544.000 ₫\n",
      "Name: [HSD 02/2025] Nước Hoa Nữ Laura Anne Dynamic For Her 50ml (Xanh), Brand: Eau de Parfum, Price old: 299.000 ₫, Sale: 37%, Price new: 189.000 ₫\n",
      "Name: [HSD 07/2024] Xịt Thơm Toàn Thân Bodymiss Hương Blinded Love 35ml, Brand: , Price old: 79.000 ₫, Sale: 44%, Price new: 44.000 ₫\n",
      "Name: [HSD 02/2025] Nước Hoa Nam Nữ De Memoria EDP #09 Lampang 30ml, Brand: Eau De Parfum, Price old: None, Sale: None, Price new: 333.000 ₫\n",
      "Name: [HSD 06/2024] Xịt Thơm Toàn Thân Bodymiss Hương Funky Fresh 35ml, Brand: , Price old: 79.000 ₫, Sale: 44%, Price new: 44.000 ₫\n",
      "Name: Nước Hoa Nữ Marc Jacobs Daisy Intense EDP 30ml, Brand: Daisy Intense Eau De Parfum, Price old: 2.290.000 ₫, Sale: 45%, Price new: 1.264.000 ₫\n",
      "Name: Nước Hoa Nam Calvin Klein Euphoria For Men EDT 100ml, Brand: Euphoria For Men Eau de Toilette, Price old: 2.780.000 ₫, Sale: 40%, Price new: 1.677.000 ₫\n",
      "Name: Combo Malissa Kiss Dưỡng Thể & Xịt Thơm Sweet Vanilla Cotton, Brand: , Price old: 338.000 ₫, Sale: 10%, Price new: 304.000 ₫\n",
      "Name: [HSD 01/2025] Nước Hoa Nữ Marc Jacobs Daisy Intense EDP 4ml, Brand: Daisy Intense Eau De Parfum, Price old: 290.000 ₫, Sale: 30%, Price new: 203.000 ₫\n",
      "Name: [Mini] Nước Hoa Nữ Burberry Her Blossom EDT 1.5ml, Brand: , Price old: 69.000 ₫, Sale: 1%, Price new: 68.000 ₫\n",
      "Name: Nước Hoa Nữ Lancôme La Vie Est Belle Bản Giới Hạn OUI 50ml, Brand: La Vie Est Belle Oui L'eau De Parfum D'exception, Price old: 2.700.000 ₫, Sale: 17%, Price new: 2.239.000 ₫\n",
      "Name: Nước Hoa Nữ Chloé Eau De Parfum 75ml, Brand: , Price old: 4.290.000 ₫, Sale: 34%, Price new: 2.843.000 ₫\n",
      "Name: Combo Malissa Kiss Dưỡng Thể & Xịt Thơm Happy Sundae, Brand: , Price old: 338.000 ₫, Sale: 10%, Price new: 304.000 ₫\n",
      "Name: [HSD 02/2025] Nước Hoa Nữ Laura Anne Mystic For Her 50ml (Xám), Brand: Eau de Parfum, Price old: None, Sale: None, Price new: 156.000 ₫\n",
      "Name: Nước Hoa Nam Mr.Burberry Indigo EDT 50ml, Brand: Indigo For Men EDT Spray, Price old: 2.180.000 ₫, Sale: 31%, Price new: 1.509.000 ₫\n",
      "Name: [HSD 06/2024] Xịt Thơm Toàn Thân Bodymiss Hương Stop & Stare 35ml, Brand: , Price old: 79.000 ₫, Sale: 44%, Price new: 44.000 ₫\n",
      "Name: [HSD 07/2024] Xịt Thơm Toàn Thân Bodymiss Hương Funky Fresh 35ml, Brand: , Price old: 79.000 ₫, Sale: 44%, Price new: 44.000 ₫\n",
      "Name: Nước Hoa Nam Calvin Klein Free Eau De Toilette 50ml, Brand: Free EDT Spray, Price old: 1.880.000 ₫, Sale: 48%, Price new: 983.000 ₫\n",
      "Name: Nước Hoa Nam Versace Eros EDP 100ml, Brand: Eros Eau De Parfum Natural Spray, Price old: 2.761.000 ₫, Sale: 30%, Price new: 1.930.000 ₫\n",
      "Name: Nước Hoa Nữ Versace Bright Crystal EDT 90ml, Brand: Bright Crystal Eau De Toilette, Price old: 2.760.000 ₫, Sale: 46%, Price new: 1.488.000 ₫\n",
      "Name: Nước Hoa Nam Gota Bouncy Eau de Parfum 50ml, Brand: Bouncy Perfume For Men Eau de Parfum, Price old: 296.000 ₫, Sale: 50%, Price new: 148.000 ₫\n",
      "Name: Nước Hoa Nữ Salvatore Ferragamo Signorina Ribelle EDP 100ml, Brand: , Price old: 3.223.000 ₫, Sale: 44%, Price new: 1.800.000 ₫\n",
      "Name: Xịt Thơm Toàn Thân Kiss My Body Adore You 88ml, Brand: Perfume Mist, Price old: 169.000 ₫, Sale: 1%, Price new: 168.000 ₫\n",
      "Name: [HSD 07/2024] Xịt Thơm Toàn Thân Và Tóc Silkygirl Hương Magic Dream 50ml, Brand: Fragrance Mist Hair And Body #Magic Dream, Price old: 99.000 ₫, Sale: 55%, Price new: 45.000 ₫\n",
      "Name: Xịt Nước Hoa Hằng Ngày X-Men Hương Tươi Mát 50ml, Brand: Everyday Perfume Mann Up Air, Price old: 105.000 ₫, Sale: 6%, Price new: 99.000 ₫\n",
      "Name: Nước Hoa Nữ Narciso Rodriguez Pure Musc For Her EDP 50ml, Brand: Eau De Parfum, Price old: 2.900.000 ₫, Sale: 10%, Price new: 2.610.000 ₫\n",
      "Name: Nước Hoa Nữ Versace Pour Femme Dylan Blue EDP 100ml, Brand: Pour Femme Dylan Blue Eau De Parfum Spray, Price old: 3.311.000 ₫, Sale: 35%, Price new: 2.152.000 ₫\n",
      "Name: [HSD 07/2024] Nước Hoa Nữ Trussardi Sound Of Donna EDP 100ml, Brand: Sound Of Donna Eau De Parfum Spray, Price old: 2.420.000 ₫, Sale: 70%, Price new: 726.000 ₫\n",
      "Name: Nước Hoa Vùng Kín Nam Loli & The Wolf Dark Monster 10ml, Brand: Hương Gỗ Tuyết Tùng Nam Tính Cuốn Hút, Price old: 300.000 ₫, Sale: 17%, Price new: 248.000 ₫\n",
      "Name: Xịt Thơm Toàn Thân Kiss My Body Sweet Poison 88ml, Brand: Perfume Mist, Price old: 169.000 ₫, Sale: 1%, Price new: 168.000 ₫\n",
      "Name: Xịt Thơm Toàn Thân Bodymiss Hương Blinded Love 105ml, Brand: , Price old: 156.000 ₫, Sale: 32%, Price new: 106.000 ₫\n",
      "Name: [HSD 12/2024] Xịt Thơm Toàn Thân Malissa Kiss Hương Happy Sundae 88ml, Brand: Perfume Mist, Price old: 169.000 ₫, Sale: 54%, Price new: 77.000 ₫\n",
      "Name: [HSD 11/2024] Xịt Thơm Toàn Thân Và Tóc Silkygirl Hương Floral Blush 50ml, Brand: Fragrance Mist Hair And Body #Floral Blush, Price old: 99.000 ₫, Sale: 56%, Price new: 44.000 ₫\n",
      "Name: [HSD 01/2025] Xịt Thơm Toàn Thân Malissa Kiss Hương Cozy Beach 88ml, Brand: Perfume Mist, Price old: 169.000 ₫, Sale: 54%, Price new: 77.000 ₫\n",
      "Name: [HSD 10/2024] Xịt Thơm Toàn Thân Và Tóc Silkygirl Hương Love Bloom 50ml, Brand: Fragrance Mist Hair And Body #Love Bloom, Price old: 99.000 ₫, Sale: 20%, Price new: 79.000 ₫\n",
      "Name: Nước Hoa Nữ Marc Jacobs Daisy EDT 100ml, Brand: Daisy Eau De Toilette, Price old: 3.570.000 ₫, Sale: 37%, Price new: 2.249.000 ₫\n",
      "Name: Xịt Thơm Toàn Thân Kiss My Body Hottie 88ml, Brand: Perfume Mist, Price old: 169.000 ₫, Sale: 1%, Price new: 168.000 ₫\n"
     ]
    }
   ],
   "source": [
    "for item in products:\n",
    "    print(str(item))"
   ]
  },
  {
   "cell_type": "code",
   "execution_count": 11,
   "metadata": {},
   "outputs": [
    {
     "data": {
      "text/plain": [
       "191"
      ]
     },
     "execution_count": 11,
     "metadata": {},
     "output_type": "execute_result"
    }
   ],
   "source": [
    "len(products)"
   ]
  },
  {
   "cell_type": "code",
   "execution_count": 12,
   "metadata": {},
   "outputs": [],
   "source": [
    "for item in products:\n",
    "      df = pd.concat([df, pd.DataFrame([vars(item)])], ignore_index=True)"
   ]
  },
  {
   "cell_type": "code",
   "execution_count": 13,
   "metadata": {},
   "outputs": [],
   "source": [
    "df.to_csv('Crawl/Data/data_hasaki.csv', index= False)"
   ]
  },
  {
   "cell_type": "code",
   "execution_count": 14,
   "metadata": {},
   "outputs": [],
   "source": [
    "with open('Crawl/Data/productstest.txt', 'w', encoding = 'utf-8') as file:\n",
    "    for item in products:\n",
    "        file.write(str(item) + '\\n')"
   ]
  },
  {
   "cell_type": "code",
   "execution_count": 15,
   "metadata": {},
   "outputs": [
    {
     "data": {
      "text/plain": [
       "\"with open('Crawl/Data/products.txt', 'a', encoding = 'utf-8') as file:\\n    for item in products:\\n        file.write(str(item) + '\\n')\""
      ]
     },
     "execution_count": 15,
     "metadata": {},
     "output_type": "execute_result"
    }
   ],
   "source": [
    "'''with open('Crawl/Data/products.txt', 'a', encoding = 'utf-8') as file:\n",
    "    for item in products:\n",
    "        file.write(str(item) + '\\n')'''"
   ]
  }
 ],
 "metadata": {
  "kernelspec": {
   "display_name": "Python 3",
   "language": "python",
   "name": "python3"
  },
  "language_info": {
   "codemirror_mode": {
    "name": "ipython",
    "version": 3
   },
   "file_extension": ".py",
   "mimetype": "text/x-python",
   "name": "python",
   "nbconvert_exporter": "python",
   "pygments_lexer": "ipython3",
   "version": "3.12.0"
  }
 },
 "nbformat": 4,
 "nbformat_minor": 2
}
