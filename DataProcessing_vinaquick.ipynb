{
 "cells": [
  {
   "cell_type": "code",
   "execution_count": 26,
   "metadata": {},
   "outputs": [
    {
     "name": "stdout",
     "output_type": "stream",
     "text": [
      "Requirement already satisfied: beautifulsoup4 in /Library/Frameworks/Python.framework/Versions/3.12/lib/python3.12/site-packages (4.12.3)\n",
      "Requirement already satisfied: pandas in /Library/Frameworks/Python.framework/Versions/3.12/lib/python3.12/site-packages (2.2.2)\n",
      "Requirement already satisfied: soupsieve>1.2 in /Library/Frameworks/Python.framework/Versions/3.12/lib/python3.12/site-packages (from beautifulsoup4) (2.5)\n",
      "Requirement already satisfied: numpy>=1.26.0 in /Library/Frameworks/Python.framework/Versions/3.12/lib/python3.12/site-packages (from pandas) (1.26.4)\n",
      "Requirement already satisfied: python-dateutil>=2.8.2 in /Users/lehoanganh/Library/Python/3.12/lib/python/site-packages (from pandas) (2.8.2)\n",
      "Requirement already satisfied: pytz>=2020.1 in /Library/Frameworks/Python.framework/Versions/3.12/lib/python3.12/site-packages (from pandas) (2024.1)\n",
      "Requirement already satisfied: tzdata>=2022.7 in /Library/Frameworks/Python.framework/Versions/3.12/lib/python3.12/site-packages (from pandas) (2024.1)\n",
      "Requirement already satisfied: six>=1.5 in /Users/lehoanganh/Library/Python/3.12/lib/python/site-packages (from python-dateutil>=2.8.2->pandas) (1.16.0)\n",
      "\n",
      "\u001b[1m[\u001b[0m\u001b[34;49mnotice\u001b[0m\u001b[1;39;49m]\u001b[0m\u001b[39;49m A new release of pip is available: \u001b[0m\u001b[31;49m23.2.1\u001b[0m\u001b[39;49m -> \u001b[0m\u001b[32;49m24.0\u001b[0m\n",
      "\u001b[1m[\u001b[0m\u001b[34;49mnotice\u001b[0m\u001b[1;39;49m]\u001b[0m\u001b[39;49m To update, run: \u001b[0m\u001b[32;49mpip3 install --upgrade pip\u001b[0m\n",
      "Note: you may need to restart the kernel to use updated packages.\n"
     ]
    }
   ],
   "source": [
    "pip install beautifulsoup4 pandas"
   ]
  },
  {
   "cell_type": "code",
   "execution_count": 27,
   "metadata": {},
   "outputs": [],
   "source": [
    "from bs4 import BeautifulSoup\n",
    "import pandas as pd"
   ]
  },
  {
   "cell_type": "code",
   "execution_count": 28,
   "metadata": {},
   "outputs": [],
   "source": [
    "with open( 'Crawl/Data/vinaquicknam.html', 'r', encoding = 'utf-8') as file:\n",
    "    html_content = file.read()"
   ]
  },
  {
   "cell_type": "code",
   "execution_count": 29,
   "metadata": {},
   "outputs": [],
   "source": [
    "soup = BeautifulSoup(html_content, 'html.parser')"
   ]
  },
  {
   "cell_type": "code",
   "execution_count": 30,
   "metadata": {},
   "outputs": [],
   "source": [
    "product = soup.find_all('div', class_ = 'shop-item-product')"
   ]
  },
  {
   "cell_type": "code",
   "execution_count": 31,
   "metadata": {},
   "outputs": [
    {
     "data": {
      "text/plain": [
       "68"
      ]
     },
     "execution_count": 31,
     "metadata": {},
     "output_type": "execute_result"
    }
   ],
   "source": [
    "len(product)"
   ]
  },
  {
   "cell_type": "code",
   "execution_count": 32,
   "metadata": {},
   "outputs": [
    {
     "data": {
      "text/plain": [
       "<div class=\"shop-item-product\"><div class=\"badge-wrap-home badge-wrap-label\"><span class=\"label-home\">Available</span></div> <div class=\"shop-item-product-img\"><a href=\"/shop/san-pham/nuoc-hoa-nam-paco-rabanne-one-million-cologne-edt-100ml\" title=\"Nước hoa nam Paco Rabanne One Million Cologne EDT 100ml\"><img alt=\"Nước hoa nam Paco Rabanne One Million Cologne EDT 100ml\" class=\"blur-up lazyloaded\" data-src=\"https://order.vinaquick.com/assets/media/nuoc-hoa-nam-paco-rabanne-one-million-cologne-edt-100ml_productMediumThumb.jpeg\" src=\"https://order.vinaquick.com/assets/media/nuoc-hoa-nam-paco-rabanne-one-million-cologne-edt-100ml_productMediumThumb.jpeg\"/></a></div> <p class=\"item-brand\">\n",
       "            Jomashop.com\n",
       "        </p> <a href=\"/shop/san-pham/nuoc-hoa-nam-paco-rabanne-one-million-cologne-edt-100ml\" title=\"Nước hoa nam Paco Rabanne One Million Cologne EDT 100ml\"><p class=\"item-title\">\n",
       "                Nước hoa nam Paco Rabanne One Million Cologne EDT 100ml\n",
       "            </p></a> <div class=\"text-center item-price\"><p class=\"m-0\">2,250,000 VND</p></div></div>"
      ]
     },
     "execution_count": 32,
     "metadata": {},
     "output_type": "execute_result"
    }
   ],
   "source": [
    "product[0]"
   ]
  },
  {
   "cell_type": "code",
   "execution_count": 33,
   "metadata": {},
   "outputs": [],
   "source": [
    "data = {}\n",
    "df = pd.DataFrame(data)"
   ]
  },
  {
   "cell_type": "code",
   "execution_count": 34,
   "metadata": {},
   "outputs": [],
   "source": [
    "products = []\n",
    "class Product:\n",
    "    def __init__(self, name, brand, pricenew, sale, priceold):\n",
    "        self.name = name\n",
    "        self.brand = brand\n",
    "        self.pricenew = pricenew\n",
    "        self.sale = sale\n",
    "        self.priceold = priceold\n",
    "    def __str__(self):\n",
    "        return f\"Name: {self.name}, Brand: {self.brand}, Price old: {self.priceold}, Sale: {self.sale}, Price new: {self.pricenew}\""
   ]
  },
  {
   "cell_type": "code",
   "execution_count": 35,
   "metadata": {},
   "outputs": [],
   "source": [
    "for item in product:\n",
    "    name = item.find('p', class_ = 'item-title')\n",
    "    if name:\n",
    "        name = name.text.strip()\n",
    "    else:\n",
    "        name = None\n",
    "\n",
    "    brand = item.find('p', class_ = 'item-brand')\n",
    "    if brand:\n",
    "        brand = brand.text.strip()\n",
    "    else:\n",
    "        brand = None\n",
    "    pricenew = item.find('p', class_ = 'm-0')\n",
    "    if pricenew:\n",
    "        pricenew = pricenew.text.strip()\n",
    "    else:\n",
    "        pricenew = None\n",
    "    sale = '0%'\n",
    "    priceold = pricenew\n",
    "    # Tạo một đối tượng Product mới và thêm vào danh sách products\n",
    "    products.append(Product(name, brand, pricenew, sale, priceold))"
   ]
  },
  {
   "cell_type": "code",
   "execution_count": 36,
   "metadata": {},
   "outputs": [
    {
     "name": "stdout",
     "output_type": "stream",
     "text": [
      "Name: Nước hoa nam Paco Rabanne One Million Cologne EDT 100ml, Brand: Jomashop.com, Price old: 2,250,000 VND, Sale: 0%, Price new: 2,250,000 VND\n",
      "Name: Boss Bottled Night by Hugo Boss 3.3 oz EDT, Brand: Amazon, Price old: 1,950,000 VND, Sale: 0%, Price new: 1,950,000 VND\n",
      "Name: John Varvatos Man 125ml, Brand: sephora, Price old: 1,750,000 VND, Sale: 0%, Price new: 1,750,000 VND\n",
      "Name: Nước hoa nam Light Blue Pour Homme by Dolce & Gabbana EDT 125ml, Brand: sephora, Price old: 2,300,000 VND, Sale: 0%, Price new: 2,300,000 VND\n",
      "Name: Nước hoa Nautica Voyage EDT for Men 100ml, Brand: Walmart, Price old: 850,000 VND, Sale: 0%, Price new: 850,000 VND\n",
      "Name: NƯỚC HOA NAM POUR HOMME BY DOLCE & GABBANA EDT 125ML, Brand: sephora, Price old: 1,800,000 VND, Sale: 0%, Price new: 1,800,000 VND\n",
      "Name: Nước hoa nam Montblanc Explorer EDP 60ml, Brand: sephora, Price old: 1,500,000 VND, Sale: 0%, Price new: 1,500,000 VND\n",
      "Name: Nước hoa unisex Ck One Gold by Calvin Klein EDT 100ml, Brand: Walmart, Price old: 990,000 VND, Sale: 0%, Price new: 990,000 VND\n",
      "Name: Nước hoa Burberry Brit  For Him EDT 100ML, Brand: Walmart, Price old: 1,099,000 VND, Sale: 0%, Price new: 1,099,000 VND\n",
      "Name: Nước hoa Versace Pour Homme EDT 100ml, Brand: Amazon, Price old: 1,750,000 VND, Sale: 0%, Price new: 1,750,000 VND\n",
      "Name: NƯỚC HOA LELABO Thé Noir 29 EDP UNISEX 50ml, Brand: Amazon, Price old: 4,800,000 VND, Sale: 0%, Price new: 4,800,000 VND\n",
      "Name: Nước hoa Le labo Bergamote 22 Eau De Parfum  50ml, Brand: Amazon, Price old: 4,800,000 VND, Sale: 0%, Price new: 4,800,000 VND\n",
      "Name: NƯỚC HOA LELABO ROSE 31 UNISEX 50ML, Brand: Amazon, Price old: 4,800,000 VND, Sale: 0%, Price new: 4,800,000 VND\n",
      "Name: Nước Hoa Lelabo Another 13 unisex 50ml, Brand: NORDSTROM, Price old: 4,800,000 VND, Sale: 0%, Price new: 4,800,000 VND\n",
      "Name: Nước hoa Nam Dior Sauvage EDP 60ml, Brand: sephora, Price old: 2,900,000 VND, Sale: 0%, Price new: 2,900,000 VND\n",
      "Name: Nước Hoa Sauvage Cologne By CHRISTIAN DIOR EDT 60ML, Brand: sephora, Price old: 2,300,000 VND, Sale: 0%, Price new: 2,300,000 VND\n",
      "Name: Nước hoa nam Eau De Lacoste L.12.12 Blanc 100ml, Brand: Walmart, Price old: 1,500,000 VND, Sale: 0%, Price new: 1,500,000 VND\n",
      "Name: Nước hoa Ck One by Calvin Klein 100ml, Brand: sephora, Price old: 799,000 VND, Sale: 0%, Price new: 799,000 VND\n",
      "Name: Nước hoa Black Phantom Memento Mori by Kilian EDP 50ml, Brand: sephora, Price old: 5,900,000 VND, Sale: 0%, Price new: 5,900,000 VND\n",
      "Name: Nước hoa nam Creed Aventus Cologne 100ml, Brand: Jomashop.com, Price old: 8,200,000 VND, Sale: 0%, Price new: 8,200,000 VND\n",
      "Name: Nước Hoa Nam Terre D'hermes by Hermes 3.4 oz EDT, Brand: sephora, Price old: 2,200,000 VND, Sale: 0%, Price new: 2,200,000 VND\n",
      "Name: Nước Hoa Nam Giorgio Armani Code Pour Homme EDT 75ml, Brand: Amazon, Price old: 2,200,000 VND, Sale: 0%, Price new: 2,200,000 VND\n",
      "Name: Nước hoa nam Gucci Guilty Cologne Pour Homme EDT 90ml, Brand: sephora, Price old: 1,950,000 VND, Sale: 0%, Price new: 1,950,000 VND\n",
      "Name: Nước hoa Acqua Di Gio Pour Homme 100ml, Brand: Amazon, Price old: 1,990,000 VND, Sale: 0%, Price new: 1,990,000 VND\n",
      "Name: NƯỚC HOA UNISEX TOM FORD EAU DE SOLEIL BLANC EDT 100ML, Brand: sephora, Price old: 5,100,000 VND, Sale: 0%, Price new: 5,100,000 VND\n",
      "Name: Nước Hoa Unisex Maison Francis Kurkdjian Oud EDP 70ml, Brand: Jomashop.com, Price old: 5,990,000 VND, Sale: 0%, Price new: 5,990,000 VND\n",
      "Name: Nước Hoa Lelabo Santal 33 unisex 100ml, Brand: NORDSTROM, Price old: 7,500,000 VND, Sale: 0%, Price new: 7,500,000 VND\n",
      "Name: Nước Hoa Lelabo Another 13 unisex 100ml, Brand: NORDSTROM, Price old: 7,500,000 VND, Sale: 0%, Price new: 7,500,000 VND\n",
      "Name: Nước Hoa Armaf Men's Club De Nuit Intense EDT 100ML, Brand: Jomashop.com, Price old: 1,050,000 VND, Sale: 0%, Price new: 1,050,000 VND\n",
      "Name: Nước Hoa Creed Aventus / Creed EDP Spray 1.7 oz (50 ml), Brand: Jomashop.com, Price old: 6,150,000 VND, Sale: 0%, Price new: 6,150,000 VND\n",
      "Name: Nước Hoa Lelabo Rose 31 unisex 100ml, Brand: , Price old: 7,800,000 VND, Sale: 0%, Price new: 7,800,000 VND\n",
      "Name: Nước hoa nam Bvlgari Aqva Marine EDT 100ML, Brand: Jomashop.com, Price old: 1,700,000 VND, Sale: 0%, Price new: 1,700,000 VND\n",
      "Name: Nước hoa nam Maison Margiela Replica Jazz Club EDT 100ml, Brand: sephora, Price old: 3,100,000 VND, Sale: 0%, Price new: 3,100,000 VND\n",
      "Name: Nước hoa nam Light Blue Pour Homme by Dolce & Gabbana EDT 125ml- UNBOXED, Brand: sephora, Price old: 1,400,000 VND, Sale: 0%, Price new: 1,400,000 VND\n",
      "Name: NƯỚC HOA TOMFORD TOBACCO VANILLE EDP 50ML, Brand: sephora, Price old: 4,500,000 VND, Sale: 0%, Price new: 4,500,000 VND\n",
      "Name: MAISON FRANCIS KURKDJIAN ROUGE 540 EDP 70ML, Brand: Amazon, Price old: 5,900,000 VND, Sale: 0%, Price new: 5,900,000 VND\n",
      "Name: NƯỚC HOA BYREDO MOVJAVE GHOST EDP 50ML, Brand: Amazon, Price old: 3,800,000 VND, Sale: 0%, Price new: 3,800,000 VND\n",
      "Name: NƯỚC HOA TOMFORD Ombré Leather Eau De Parfum 50ML, Brand: sephora, Price old: 2,950,000 VND, Sale: 0%, Price new: 2,950,000 VND\n",
      "Name: Set Nước hoa MAISON MARGIELA Replica Memory Box Eau De Toilette Gift, Brand: selfirdges, Price old: 1,500,000 VND, Sale: 0%, Price new: 1,500,000 VND\n",
      "Name: Nước Hoa BYREDO Bal D'afrique Eau De Parfum 50ML, Brand: Amazon, Price old: 3,800,000 VND, Sale: 0%, Price new: 3,800,000 VND\n",
      "Name: Nước hoa Jo Malone London Nectarine Blossom & Honey cologne 100ml, Brand: sephora, Price old: 2,500,000 VND, Sale: 0%, Price new: 2,500,000 VND\n",
      "Name: Nước hoa Jo Malone London Wood Sage & Sea Salt Cologne 100ml, Brand: sephora, Price old: 2,500,000 VND, Sale: 0%, Price new: 2,500,000 VND\n",
      "Name: Nước hoa nam Nautica Blue EDT 100ML, Brand: Walmart, Price old: 550,000 VND, Sale: 0%, Price new: 550,000 VND\n",
      "Name: Nước hoa nam Bleu Noir by Narciso Rodriguez EDT 100ml, Brand: Jomashop.com, Price old: 1,525,000 VND, Sale: 0%, Price new: 1,525,000 VND\n",
      "Name: Nước hoa nam La Nuit De L'homme by YVES SAINT LAURENT EDT 60ml, Brand: sephora, Price old: 1,890,000 VND, Sale: 0%, Price new: 1,890,000 VND\n",
      "Name: Nước hoa nam Y Live by Yves Saint Laurent EDT 60ML, Brand: Amazon, Price old: 1,750,000 VND, Sale: 0%, Price new: 1,750,000 VND\n",
      "Name: Nước hoa nam Bvlgari Man Extreme EDT 60ML, Brand: sephora, Price old: 990,000 VND, Sale: 0%, Price new: 990,000 VND\n",
      "Name: Nước hoa Tommy Hilfiger Cologne 100ml, Brand: Amazon, Price old: 950,000 VND, Sale: 0%, Price new: 950,000 VND\n",
      "Name: Nước hoa Mr Burberry Indigo Cologne 100MlL, Brand: sephora, Price old: 1,250,000 VND, Sale: 0%, Price new: 1,250,000 VND\n",
      "Name: Burberry The Beat Eau de Toilette 100ml, Brand: sephora, Price old: 1,250,000 VND, Sale: 0%, Price new: 1,250,000 VND\n",
      "Name: Versace Pour Homme Dylan Blue 100ml, Brand: , Price old: 1,750,000 VND, Sale: 0%, Price new: 1,750,000 VND\n",
      "Name: Montblanc Legend Spirit Cologne 100ml, Brand: Amazon, Price old: 1,150,000 VND, Sale: 0%, Price new: 1,150,000 VND\n",
      "Name: Nước hoa Lacoste L.12.12 Noir Intense 100lml, Brand: Walmart, Price old: 990,000 VND, Sale: 0%, Price new: 990,000 VND\n",
      "Name: Mr. Burberry Eau de Toilette 100ml, Brand: sephora, Price old: 1,128,000 VND, Sale: 0%, Price new: 1,128,000 VND\n",
      "Name: NƯỚC HOA NAM BURBERRY TOUCH BY BURBERRY EDT 100ML, Brand: sephora, Price old: 1,150,000 VND, Sale: 0%, Price new: 1,150,000 VND\n",
      "Name: Nước hoa Cool Water by Davidoff 125 ml, Brand: Amazon, Price old: 799,000 VND, Sale: 0%, Price new: 799,000 VND\n",
      "Name: Nước hoa Versace Eau Fraiche 100ml, Brand: sephora, Price old: 1,450,000 VND, Sale: 0%, Price new: 1,450,000 VND\n",
      "Name: Nước hoa Hugo Boss No.6 EDT 100ml, Brand: sephora, Price old: 1,450,000 VND, Sale: 0%, Price new: 1,450,000 VND\n",
      "Name: Calvin Klein Eternity for Men 4-Piece Gift Set, Brand: Nordstrom Rack, Price old: None, Sale: 0%, Price new: None\n",
      "Name: NƯỚC HOA NAM AQUA POUR HOMME BY BVLGARI EDT 100ML, Brand: Walmart, Price old: 1,550,000 VND, Sale: 0%, Price new: 1,550,000 VND\n",
      "Name: Burberry Mr.burberry Indigo / Burberry EDT Spray 3.3 oz (100 ml) (m), Brand: Jomashop.com, Price old: None, Sale: 0%, Price new: None\n",
      "Name: Eternity Cologne By  Calvin Klein 100ml, Brand: Amazon, Price old: 991,000 VND, Sale: 0%, Price new: 991,000 VND\n",
      "Name: Nước hoa F Black Cologne By SALVATORE 100ML, Brand: Amazon, Price old: 950,000 VND, Sale: 0%, Price new: 950,000 VND\n",
      "Name: Nước hoa Hugo Boss 125ml, Brand: Amazon, Price old: 1,101,000 VND, Sale: 0%, Price new: 1,101,000 VND\n",
      "Name: Nước hoa Montblanc Legend 100ml, Brand: sephora, Price old: 1,150,000 VND, Sale: 0%, Price new: 1,150,000 VND\n",
      "Name: Nước hoa Moschino Toy 2 100ml, Brand: sephora, Price old: 1,635,000 VND, Sale: 0%, Price new: 1,635,000 VND\n",
      "Name: DOLCE & GABBANA The One EDT 100ml, Brand: Amazon, Price old: 1,500,000 VND, Sale: 0%, Price new: 1,500,000 VND\n",
      "Name: Nước hoa unisex Maison Margiela Replica By the Fireplace EDT 100ml, Brand: sephora, Price old: 3,100,000 VND, Sale: 0%, Price new: 3,100,000 VND\n"
     ]
    }
   ],
   "source": [
    "for item in products:\n",
    "    print(str(item))"
   ]
  },
  {
   "cell_type": "code",
   "execution_count": 37,
   "metadata": {},
   "outputs": [
    {
     "data": {
      "text/plain": [
       "68"
      ]
     },
     "execution_count": 37,
     "metadata": {},
     "output_type": "execute_result"
    }
   ],
   "source": [
    "len(products)"
   ]
  },
  {
   "cell_type": "code",
   "execution_count": 38,
   "metadata": {},
   "outputs": [],
   "source": [
    "with open('Crawl/Data/vinaquicknu.html', 'r', encoding = 'utf-8') as file:\n",
    "    html_content = file.read()"
   ]
  },
  {
   "cell_type": "code",
   "execution_count": 39,
   "metadata": {},
   "outputs": [],
   "source": [
    "soup = BeautifulSoup(html_content, 'html.parser')"
   ]
  },
  {
   "cell_type": "code",
   "execution_count": 40,
   "metadata": {},
   "outputs": [
    {
     "data": {
      "text/plain": [
       "<div class=\"shop-item-product\"><div class=\"shop-item-product-img\"><a href=\"/shop/san-pham/nuoc-hoa-nu-calvin-klein-sheer-100ml\" title=\"Nước hoa nữ Calvin Klein Sheer 100ml\"><img alt=\"Nước hoa nữ Calvin Klein Sheer 100ml\" class=\"blur-up lazyloaded\" data-src=\"https://order.vinaquick.com/assets/media/calvin-klein-sheer-beauty-2_productMediumThumb.jpg\" src=\"https://order.vinaquick.com/assets/media/calvin-klein-sheer-beauty-2_productMediumThumb.jpg\"/></a></div> <p class=\"item-brand\">\n",
       "            Jomashop.com\n",
       "        </p> <a href=\"/shop/san-pham/nuoc-hoa-nu-calvin-klein-sheer-100ml\" title=\"Nước hoa nữ Calvin Klein Sheer 100ml\"><p class=\"item-title\">\n",
       "                Nước hoa nữ Calvin Klein Sheer 100ml\n",
       "            </p></a> <div class=\"text-center item-price\"><p class=\"m-0\">1,150,000 VND</p></div></div>"
      ]
     },
     "execution_count": 40,
     "metadata": {},
     "output_type": "execute_result"
    }
   ],
   "source": [
    "product = soup.find_all('div', class_ = 'shop-item-product')\n",
    "product[0]"
   ]
  },
  {
   "cell_type": "code",
   "execution_count": 41,
   "metadata": {},
   "outputs": [],
   "source": [
    "for item in product:\n",
    "    name = item.find('p', class_ = 'item-title')\n",
    "    if name:\n",
    "        name = name.text.strip()\n",
    "    else:\n",
    "        name = None\n",
    "\n",
    "    brand = item.find('p', class_ = 'item-brand')\n",
    "    if brand:\n",
    "        brand = brand.text.strip()\n",
    "    else:\n",
    "        brand = None\n",
    "    pricenew = item.find('p', class_ = 'm-0')\n",
    "    if pricenew:\n",
    "        pricenew = pricenew.text.strip()\n",
    "    else:\n",
    "        pricenew = None\n",
    "    sale = '0%'\n",
    "    priceold = pricenew\n",
    "    # Tạo một đối tượng Product mới và thêm vào danh sách products\n",
    "    products.append(Product(name, brand, pricenew, sale, priceold))"
   ]
  },
  {
   "cell_type": "code",
   "execution_count": 42,
   "metadata": {},
   "outputs": [
    {
     "name": "stdout",
     "output_type": "stream",
     "text": [
      "Name: Nước hoa nam Paco Rabanne One Million Cologne EDT 100ml, Brand: Jomashop.com, Price old: 2,250,000 VND, Sale: 0%, Price new: 2,250,000 VND\n",
      "Name: Boss Bottled Night by Hugo Boss 3.3 oz EDT, Brand: Amazon, Price old: 1,950,000 VND, Sale: 0%, Price new: 1,950,000 VND\n",
      "Name: John Varvatos Man 125ml, Brand: sephora, Price old: 1,750,000 VND, Sale: 0%, Price new: 1,750,000 VND\n",
      "Name: Nước hoa nam Light Blue Pour Homme by Dolce & Gabbana EDT 125ml, Brand: sephora, Price old: 2,300,000 VND, Sale: 0%, Price new: 2,300,000 VND\n",
      "Name: Nước hoa Nautica Voyage EDT for Men 100ml, Brand: Walmart, Price old: 850,000 VND, Sale: 0%, Price new: 850,000 VND\n",
      "Name: NƯỚC HOA NAM POUR HOMME BY DOLCE & GABBANA EDT 125ML, Brand: sephora, Price old: 1,800,000 VND, Sale: 0%, Price new: 1,800,000 VND\n",
      "Name: Nước hoa nam Montblanc Explorer EDP 60ml, Brand: sephora, Price old: 1,500,000 VND, Sale: 0%, Price new: 1,500,000 VND\n",
      "Name: Nước hoa unisex Ck One Gold by Calvin Klein EDT 100ml, Brand: Walmart, Price old: 990,000 VND, Sale: 0%, Price new: 990,000 VND\n",
      "Name: Nước hoa Burberry Brit  For Him EDT 100ML, Brand: Walmart, Price old: 1,099,000 VND, Sale: 0%, Price new: 1,099,000 VND\n",
      "Name: Nước hoa Versace Pour Homme EDT 100ml, Brand: Amazon, Price old: 1,750,000 VND, Sale: 0%, Price new: 1,750,000 VND\n",
      "Name: NƯỚC HOA LELABO Thé Noir 29 EDP UNISEX 50ml, Brand: Amazon, Price old: 4,800,000 VND, Sale: 0%, Price new: 4,800,000 VND\n",
      "Name: Nước hoa Le labo Bergamote 22 Eau De Parfum  50ml, Brand: Amazon, Price old: 4,800,000 VND, Sale: 0%, Price new: 4,800,000 VND\n",
      "Name: NƯỚC HOA LELABO ROSE 31 UNISEX 50ML, Brand: Amazon, Price old: 4,800,000 VND, Sale: 0%, Price new: 4,800,000 VND\n",
      "Name: Nước Hoa Lelabo Another 13 unisex 50ml, Brand: NORDSTROM, Price old: 4,800,000 VND, Sale: 0%, Price new: 4,800,000 VND\n",
      "Name: Nước hoa Nam Dior Sauvage EDP 60ml, Brand: sephora, Price old: 2,900,000 VND, Sale: 0%, Price new: 2,900,000 VND\n",
      "Name: Nước Hoa Sauvage Cologne By CHRISTIAN DIOR EDT 60ML, Brand: sephora, Price old: 2,300,000 VND, Sale: 0%, Price new: 2,300,000 VND\n",
      "Name: Nước hoa nam Eau De Lacoste L.12.12 Blanc 100ml, Brand: Walmart, Price old: 1,500,000 VND, Sale: 0%, Price new: 1,500,000 VND\n",
      "Name: Nước hoa Ck One by Calvin Klein 100ml, Brand: sephora, Price old: 799,000 VND, Sale: 0%, Price new: 799,000 VND\n",
      "Name: Nước hoa Black Phantom Memento Mori by Kilian EDP 50ml, Brand: sephora, Price old: 5,900,000 VND, Sale: 0%, Price new: 5,900,000 VND\n",
      "Name: Nước hoa nam Creed Aventus Cologne 100ml, Brand: Jomashop.com, Price old: 8,200,000 VND, Sale: 0%, Price new: 8,200,000 VND\n",
      "Name: Nước Hoa Nam Terre D'hermes by Hermes 3.4 oz EDT, Brand: sephora, Price old: 2,200,000 VND, Sale: 0%, Price new: 2,200,000 VND\n",
      "Name: Nước Hoa Nam Giorgio Armani Code Pour Homme EDT 75ml, Brand: Amazon, Price old: 2,200,000 VND, Sale: 0%, Price new: 2,200,000 VND\n",
      "Name: Nước hoa nam Gucci Guilty Cologne Pour Homme EDT 90ml, Brand: sephora, Price old: 1,950,000 VND, Sale: 0%, Price new: 1,950,000 VND\n",
      "Name: Nước hoa Acqua Di Gio Pour Homme 100ml, Brand: Amazon, Price old: 1,990,000 VND, Sale: 0%, Price new: 1,990,000 VND\n",
      "Name: NƯỚC HOA UNISEX TOM FORD EAU DE SOLEIL BLANC EDT 100ML, Brand: sephora, Price old: 5,100,000 VND, Sale: 0%, Price new: 5,100,000 VND\n",
      "Name: Nước Hoa Unisex Maison Francis Kurkdjian Oud EDP 70ml, Brand: Jomashop.com, Price old: 5,990,000 VND, Sale: 0%, Price new: 5,990,000 VND\n",
      "Name: Nước Hoa Lelabo Santal 33 unisex 100ml, Brand: NORDSTROM, Price old: 7,500,000 VND, Sale: 0%, Price new: 7,500,000 VND\n",
      "Name: Nước Hoa Lelabo Another 13 unisex 100ml, Brand: NORDSTROM, Price old: 7,500,000 VND, Sale: 0%, Price new: 7,500,000 VND\n",
      "Name: Nước Hoa Armaf Men's Club De Nuit Intense EDT 100ML, Brand: Jomashop.com, Price old: 1,050,000 VND, Sale: 0%, Price new: 1,050,000 VND\n",
      "Name: Nước Hoa Creed Aventus / Creed EDP Spray 1.7 oz (50 ml), Brand: Jomashop.com, Price old: 6,150,000 VND, Sale: 0%, Price new: 6,150,000 VND\n",
      "Name: Nước Hoa Lelabo Rose 31 unisex 100ml, Brand: , Price old: 7,800,000 VND, Sale: 0%, Price new: 7,800,000 VND\n",
      "Name: Nước hoa nam Bvlgari Aqva Marine EDT 100ML, Brand: Jomashop.com, Price old: 1,700,000 VND, Sale: 0%, Price new: 1,700,000 VND\n",
      "Name: Nước hoa nam Maison Margiela Replica Jazz Club EDT 100ml, Brand: sephora, Price old: 3,100,000 VND, Sale: 0%, Price new: 3,100,000 VND\n",
      "Name: Nước hoa nam Light Blue Pour Homme by Dolce & Gabbana EDT 125ml- UNBOXED, Brand: sephora, Price old: 1,400,000 VND, Sale: 0%, Price new: 1,400,000 VND\n",
      "Name: NƯỚC HOA TOMFORD TOBACCO VANILLE EDP 50ML, Brand: sephora, Price old: 4,500,000 VND, Sale: 0%, Price new: 4,500,000 VND\n",
      "Name: MAISON FRANCIS KURKDJIAN ROUGE 540 EDP 70ML, Brand: Amazon, Price old: 5,900,000 VND, Sale: 0%, Price new: 5,900,000 VND\n",
      "Name: NƯỚC HOA BYREDO MOVJAVE GHOST EDP 50ML, Brand: Amazon, Price old: 3,800,000 VND, Sale: 0%, Price new: 3,800,000 VND\n",
      "Name: NƯỚC HOA TOMFORD Ombré Leather Eau De Parfum 50ML, Brand: sephora, Price old: 2,950,000 VND, Sale: 0%, Price new: 2,950,000 VND\n",
      "Name: Set Nước hoa MAISON MARGIELA Replica Memory Box Eau De Toilette Gift, Brand: selfirdges, Price old: 1,500,000 VND, Sale: 0%, Price new: 1,500,000 VND\n",
      "Name: Nước Hoa BYREDO Bal D'afrique Eau De Parfum 50ML, Brand: Amazon, Price old: 3,800,000 VND, Sale: 0%, Price new: 3,800,000 VND\n",
      "Name: Nước hoa Jo Malone London Nectarine Blossom & Honey cologne 100ml, Brand: sephora, Price old: 2,500,000 VND, Sale: 0%, Price new: 2,500,000 VND\n",
      "Name: Nước hoa Jo Malone London Wood Sage & Sea Salt Cologne 100ml, Brand: sephora, Price old: 2,500,000 VND, Sale: 0%, Price new: 2,500,000 VND\n",
      "Name: Nước hoa nam Nautica Blue EDT 100ML, Brand: Walmart, Price old: 550,000 VND, Sale: 0%, Price new: 550,000 VND\n",
      "Name: Nước hoa nam Bleu Noir by Narciso Rodriguez EDT 100ml, Brand: Jomashop.com, Price old: 1,525,000 VND, Sale: 0%, Price new: 1,525,000 VND\n",
      "Name: Nước hoa nam La Nuit De L'homme by YVES SAINT LAURENT EDT 60ml, Brand: sephora, Price old: 1,890,000 VND, Sale: 0%, Price new: 1,890,000 VND\n",
      "Name: Nước hoa nam Y Live by Yves Saint Laurent EDT 60ML, Brand: Amazon, Price old: 1,750,000 VND, Sale: 0%, Price new: 1,750,000 VND\n",
      "Name: Nước hoa nam Bvlgari Man Extreme EDT 60ML, Brand: sephora, Price old: 990,000 VND, Sale: 0%, Price new: 990,000 VND\n",
      "Name: Nước hoa Tommy Hilfiger Cologne 100ml, Brand: Amazon, Price old: 950,000 VND, Sale: 0%, Price new: 950,000 VND\n",
      "Name: Nước hoa Mr Burberry Indigo Cologne 100MlL, Brand: sephora, Price old: 1,250,000 VND, Sale: 0%, Price new: 1,250,000 VND\n",
      "Name: Burberry The Beat Eau de Toilette 100ml, Brand: sephora, Price old: 1,250,000 VND, Sale: 0%, Price new: 1,250,000 VND\n",
      "Name: Versace Pour Homme Dylan Blue 100ml, Brand: , Price old: 1,750,000 VND, Sale: 0%, Price new: 1,750,000 VND\n",
      "Name: Montblanc Legend Spirit Cologne 100ml, Brand: Amazon, Price old: 1,150,000 VND, Sale: 0%, Price new: 1,150,000 VND\n",
      "Name: Nước hoa Lacoste L.12.12 Noir Intense 100lml, Brand: Walmart, Price old: 990,000 VND, Sale: 0%, Price new: 990,000 VND\n",
      "Name: Mr. Burberry Eau de Toilette 100ml, Brand: sephora, Price old: 1,128,000 VND, Sale: 0%, Price new: 1,128,000 VND\n",
      "Name: NƯỚC HOA NAM BURBERRY TOUCH BY BURBERRY EDT 100ML, Brand: sephora, Price old: 1,150,000 VND, Sale: 0%, Price new: 1,150,000 VND\n",
      "Name: Nước hoa Cool Water by Davidoff 125 ml, Brand: Amazon, Price old: 799,000 VND, Sale: 0%, Price new: 799,000 VND\n",
      "Name: Nước hoa Versace Eau Fraiche 100ml, Brand: sephora, Price old: 1,450,000 VND, Sale: 0%, Price new: 1,450,000 VND\n",
      "Name: Nước hoa Hugo Boss No.6 EDT 100ml, Brand: sephora, Price old: 1,450,000 VND, Sale: 0%, Price new: 1,450,000 VND\n",
      "Name: Calvin Klein Eternity for Men 4-Piece Gift Set, Brand: Nordstrom Rack, Price old: None, Sale: 0%, Price new: None\n",
      "Name: NƯỚC HOA NAM AQUA POUR HOMME BY BVLGARI EDT 100ML, Brand: Walmart, Price old: 1,550,000 VND, Sale: 0%, Price new: 1,550,000 VND\n",
      "Name: Burberry Mr.burberry Indigo / Burberry EDT Spray 3.3 oz (100 ml) (m), Brand: Jomashop.com, Price old: None, Sale: 0%, Price new: None\n",
      "Name: Eternity Cologne By  Calvin Klein 100ml, Brand: Amazon, Price old: 991,000 VND, Sale: 0%, Price new: 991,000 VND\n",
      "Name: Nước hoa F Black Cologne By SALVATORE 100ML, Brand: Amazon, Price old: 950,000 VND, Sale: 0%, Price new: 950,000 VND\n",
      "Name: Nước hoa Hugo Boss 125ml, Brand: Amazon, Price old: 1,101,000 VND, Sale: 0%, Price new: 1,101,000 VND\n",
      "Name: Nước hoa Montblanc Legend 100ml, Brand: sephora, Price old: 1,150,000 VND, Sale: 0%, Price new: 1,150,000 VND\n",
      "Name: Nước hoa Moschino Toy 2 100ml, Brand: sephora, Price old: 1,635,000 VND, Sale: 0%, Price new: 1,635,000 VND\n",
      "Name: DOLCE & GABBANA The One EDT 100ml, Brand: Amazon, Price old: 1,500,000 VND, Sale: 0%, Price new: 1,500,000 VND\n",
      "Name: Nước hoa unisex Maison Margiela Replica By the Fireplace EDT 100ml, Brand: sephora, Price old: 3,100,000 VND, Sale: 0%, Price new: 3,100,000 VND\n",
      "Name: Nước hoa nữ Calvin Klein Sheer 100ml, Brand: Jomashop.com, Price old: 1,150,000 VND, Sale: 0%, Price new: 1,150,000 VND\n",
      "Name: Nước hoa nữ Chloe Love Story by Chloe EDP 75ml, Brand: sephora, Price old: 2,100,000 VND, Sale: 0%, Price new: 2,100,000 VND\n",
      "Name: Nước hoa nữ Narciso Rodriguez Rouge EDT 90ml, Brand: Jomashop.com, Price old: 2,100,000 VND, Sale: 0%, Price new: 2,100,000 VND\n",
      "Name: Nước hoa nữ Club De Nuit by Armaf EDP 105ML, Brand: Walmart, Price old: 950,000 VND, Sale: 0%, Price new: 950,000 VND\n",
      "Name: Nước hoa nữ Daisy Eau So Fresh by Marc Jacobs EDT 75ml, Brand: sephora, Price old: 1,850,000 VND, Sale: 0%, Price new: 1,850,000 VND\n",
      "Name: Nước hoa nữ Cool Water By DAVIDOFF EDT 100ML, Brand: Jomashop.com, Price old: 790,000 VND, Sale: 0%, Price new: 790,000 VND\n",
      "Name: Burberry London Eau De Parfum 100ml, Brand: Amazon, Price old: 1,300,000 VND, Sale: 0%, Price new: 1,300,000 VND\n",
      "Name: Nước hoa nữ Eau Des Merveilles Bleue by Hermes EDT 50ml, Brand: Jomashop.com, Price old: 2,100,000 VND, Sale: 0%, Price new: 2,100,000 VND\n",
      "Name: Princess Perfume By  VERA WANG 100ml, Brand: Amazon, Price old: 990,000 VND, Sale: 0%, Price new: 990,000 VND\n",
      "Name: NƯỚC HOA NỮ L'IMPERATRICE 3 BY DOLCE & GABBANA EDT 100ML, Brand: sephora, Price old: 1,250,000 VND, Sale: 0%, Price new: 1,250,000 VND\n",
      "Name: Nước hoa Burberry Classic EDP 100ml, Brand: Walmart, Price old: 1,150,000 VND, Sale: 0%, Price new: 1,150,000 VND\n",
      "Name: NƯỚC HOA NỮ THE ONE BY DOLCE & GABBANA EDP 50ML, Brand: sephora, Price old: None, Sale: 0%, Price new: None\n",
      "Name: Nước hoa Burberry Brit Sheer 100ml, Brand: Jomashop.com, Price old: 1,200,000 VND, Sale: 0%, Price new: 1,200,000 VND\n",
      "Name: Versace Crystal Noir Perfume 90ml, Brand: , Price old: 1,500,000 VND, Sale: 0%, Price new: 1,500,000 VND\n",
      "Name: Nước hoa nữ Vera Wang Flower Princess EDT 100ml, Brand: Amazon, Price old: 750,000 VND, Sale: 0%, Price new: 750,000 VND\n",
      "Name: Nước hoa unisex Ck One Gold by Calvin Klein EDT 100ml, Brand: Walmart, Price old: 990,000 VND, Sale: 0%, Price new: 990,000 VND\n",
      "Name: Nước hoa nữ VERSACE Bright Crystal EDT 90 ML, Brand: sephora, Price old: 1,650,000 VND, Sale: 0%, Price new: 1,650,000 VND\n",
      "Name: Nước hoa nữ Pure Musc by Narciso Rodriguez EDP 100ml, Brand: Costco, Price old: 2,100,000 VND, Sale: 0%, Price new: 2,100,000 VND\n",
      "Name: Narciso Rodriguez by Narciso Rodriguez EDP 50ml, Brand: Jomashop.com, Price old: 1,990,000 VND, Sale: 0%, Price new: 1,990,000 VND\n",
      "Name: Nước hoa nữ Narciso Poudree EDP 90ml, Brand: Walmart, Price old: 2,500,000 VND, Sale: 0%, Price new: 2,500,000 VND\n",
      "Name: Nước hoa nữ  DOLCE&GABBANA Light Blue EDT 100ML, Brand: Walmart, Price old: 1,990,000 VND, Sale: 0%, Price new: 1,990,000 VND\n",
      "Name: NƯỚC HOA NỮ NARCISO RODRIGUEZ EDT 100ML, Brand: Walmart, Price old: 2,100,000 VND, Sale: 0%, Price new: 2,100,000 VND\n",
      "Name: NƯỚC HOA LELABO Thé Noir 29 EDP UNISEX 50ml, Brand: Amazon, Price old: 4,800,000 VND, Sale: 0%, Price new: 4,800,000 VND\n",
      "Name: Nước hoa Le labo Lys 41 Eau De Parfum  50ml, Brand: Amazon, Price old: 4,800,000 VND, Sale: 0%, Price new: 4,800,000 VND\n",
      "Name: Nước hoa Le labo Bergamote 22 Eau De Parfum  50ml, Brand: Amazon, Price old: 4,800,000 VND, Sale: 0%, Price new: 4,800,000 VND\n",
      "Name: NƯỚC HOA LELABO ROSE 31 UNISEX 50ML, Brand: Amazon, Price old: 4,800,000 VND, Sale: 0%, Price new: 4,800,000 VND\n",
      "Name: Nước Hoa Lelabo Another 13 unisex 50ml, Brand: NORDSTROM, Price old: 4,800,000 VND, Sale: 0%, Price new: 4,800,000 VND\n",
      "Name: Nước Hoa Narciso Rodriguez Fleur Musc For Her Eau De Toilette Florale 100ML, Brand: Amazon, Price old: 1,800,000 VND, Sale: 0%, Price new: 1,800,000 VND\n",
      "Name: NƯỚC HOA NỮ ETERNITY MOMENT BY CALVIN KLEIN EDP 100ML, Brand: Walmart, Price old: 950,000 VND, Sale: 0%, Price new: 950,000 VND\n",
      "Name: Nước hoa Ck One by Calvin Klein 100ml, Brand: sephora, Price old: 799,000 VND, Sale: 0%, Price new: 799,000 VND\n",
      "Name: Nước hoa Black Phantom Memento Mori by Kilian EDP 50ml, Brand: sephora, Price old: 5,900,000 VND, Sale: 0%, Price new: 5,900,000 VND\n",
      "Name: Nước hoa nữ Salvatore Ferragamo Incanto Shine EDT 100ml, Brand: Jomashop.com, Price old: 699,000 VND, Sale: 0%, Price new: 699,000 VND\n",
      "Name: Nước Hoa Narciso Rodriguez Musc Noir EDP for women 100ML, Brand: Amazon, Price old: 2,600,000 VND, Sale: 0%, Price new: 2,600,000 VND\n",
      "Name: Nước hoa nữ Parfums De Marly Ladies Delina EDP 75 ml, Brand: Jomashop.com, Price old: 5,300,000 VND, Sale: 0%, Price new: 5,300,000 VND\n",
      "Name: Nước Hoa Nữ Blanche Byredo by Byredo EDP 100ml, Brand: Amazon, Price old: 4,850,000 VND, Sale: 0%, Price new: 4,850,000 VND\n",
      "Name: Nước Hoa Nữ Acqua di Gio EDT 100ML, Brand: Amazon, Price old: 1,990,000 VND, Sale: 0%, Price new: 1,990,000 VND\n",
      "Name: NƯỚC HOA UNISEX TOM FORD EAU DE SOLEIL BLANC EDT 100ML, Brand: sephora, Price old: 5,100,000 VND, Sale: 0%, Price new: 5,100,000 VND\n",
      "Name: Nước Hoa Nữ Boss The Scent EDP 100ML, Brand: Amazon, Price old: 1,600,000 VND, Sale: 0%, Price new: 1,600,000 VND\n",
      "Name: Nước Hoa Nữ Jean Paul Gaultie Scandal EDP 80ML, Brand: Amazon, Price old: 2,500,000 VND, Sale: 0%, Price new: 2,500,000 VND\n",
      "Name: Nước Hoa Maison Martin Margiela Under The Lemon Trees Replica EDT 100ML, Brand: sephora, Price old: 3,100,000 VND, Sale: 0%, Price new: 3,100,000 VND\n",
      "Name: Nước Hoa Unisex Maison Francis Kurkdjian Oud EDP 70ml, Brand: Jomashop.com, Price old: 5,990,000 VND, Sale: 0%, Price new: 5,990,000 VND\n",
      "Name: Nước Hoa Lelabo Santal 33 unisex 100ml, Brand: NORDSTROM, Price old: 7,500,000 VND, Sale: 0%, Price new: 7,500,000 VND\n",
      "Name: Nước Hoa Lelabo Another 13 unisex 100ml, Brand: NORDSTROM, Price old: 7,500,000 VND, Sale: 0%, Price new: 7,500,000 VND\n",
      "Name: NƯỚC HOA Gold Coast / Bond No.9 EDP 100ML, Brand: Amazon, Price old: 4,200,000 VND, Sale: 0%, Price new: 4,200,000 VND\n",
      "Name: Nước hoa Hermes Un Jardin Sur Le Nil EDT 100ml, Brand: sephora, Price old: 2,100,000 VND, Sale: 0%, Price new: 2,100,000 VND\n",
      "Name: Nước Hoa Lelabo Rose 31 unisex 100ml, Brand: , Price old: 7,800,000 VND, Sale: 0%, Price new: 7,800,000 VND\n",
      "Name: Nước hoa nữ Nomade by Chloe EDP 50ML, Brand: Jomashop.com, Price old: 1,900,000 VND, Sale: 0%, Price new: 1,900,000 VND\n",
      "Name: Nước hoa nữ Maison Margiela Replica Beach Walk EDT 100ml, Brand: sephora, Price old: 3,100,000 VND, Sale: 0%, Price new: 3,100,000 VND\n",
      "Name: Nước hoa nữ Maison Margiela Replica Lazy Sunday Morning EDT 100ml, Brand: sephora, Price old: 3,100,000 VND, Sale: 0%, Price new: 3,100,000 VND\n",
      "Name: Nước hoa nữ Prada Candy EDP 80ml, Brand: sephora, Price old: 1,950,000 VND, Sale: 0%, Price new: 1,950,000 VND\n",
      "Name: Nước hoa nữ Prada Candy EDP 50ml, Brand: sephora, Price old: 1,500,000 VND, Sale: 0%, Price new: 1,500,000 VND\n",
      "Name: Nước hoa nữ Lancôme Idôle EDP 75ML, Brand: sephora, Price old: 2,300,000 VND, Sale: 0%, Price new: 2,300,000 VND\n",
      "Name: Nước hoa nữ Christian Dior J'Adore Infinissime EDP 100ML (UNBOXING), Brand: sephora, Price old: 2,600,000 VND, Sale: 0%, Price new: 2,600,000 VND\n",
      "Name: Nước hoa nữ Flowerbomb by Viktor & Rolf EDP 50ML, Brand: sephora, Price old: 2,200,000 VND, Sale: 0%, Price new: 2,200,000 VND\n",
      "Name: Nước hoa nữ Yves Saint Laurent Black Opium EDP 50ML, Brand: sephora, Price old: 2,200,000 VND, Sale: 0%, Price new: 2,200,000 VND\n",
      "Name: Kem Ủ Phục Hồi Tóc Olaplex No.3 Hair Perfector Từ Mỹ, Brand: Amazon, Price old: 590,000 VND, Sale: 0%, Price new: 590,000 VND\n",
      "Name: TINH DẦU DƯỠNG TÓC MOROCCAN OIL, 100ML, Brand: Amazon, Price old: 790,000 VND, Sale: 0%, Price new: 790,000 VND\n",
      "Name: NƯỚC HOA TOMFORD TOBACCO VANILLE EDP 50ML, Brand: sephora, Price old: 4,500,000 VND, Sale: 0%, Price new: 4,500,000 VND\n",
      "Name: NƯỚC HOA CHANEL GABRIELLE PARIS EDP 100ml, Brand: sephora, Price old: 2,999,000 VND, Sale: 0%, Price new: 2,999,000 VND\n",
      "Name: NƯỚC HOA CHANEL No5 L’EAU EDT 100ml, Brand: sephora, Price old: 3,200,000 VND, Sale: 0%, Price new: 3,200,000 VND\n",
      "Name: NƯỚC HOA CHANEL COCO EDP 50ML, Brand: Amazon, Price old: 3,200,000 VND, Sale: 0%, Price new: 3,200,000 VND\n",
      "Name: MAISON FRANCIS KURKDJIAN ROUGE 540 EDP 70ML, Brand: Amazon, Price old: 5,900,000 VND, Sale: 0%, Price new: 5,900,000 VND\n",
      "Name: NƯỚC HOA BYREDO MOVJAVE GHOST EDP 50ML, Brand: Amazon, Price old: 3,800,000 VND, Sale: 0%, Price new: 3,800,000 VND\n",
      "Name: NƯỚC HOA TOMFORD Ombré Leather Eau De Parfum 50ML, Brand: sephora, Price old: 2,950,000 VND, Sale: 0%, Price new: 2,950,000 VND\n",
      "Name: Set Nước hoa MAISON MARGIELA Replica Memory Box Eau De Toilette Gift, Brand: selfirdges, Price old: 1,500,000 VND, Sale: 0%, Price new: 1,500,000 VND\n",
      "Name: Nước Hoa BYREDO Bal D'afrique Eau De Parfum 50ML, Brand: Amazon, Price old: 3,800,000 VND, Sale: 0%, Price new: 3,800,000 VND\n",
      "Name: Nước hoa Yves Saint Laurent Libre EDP 50ml, Brand: sephora, Price old: 2,700,000 VND, Sale: 0%, Price new: 2,700,000 VND\n",
      "Name: Nước hoa Jo Malone London Nectarine Blossom & Honey cologne 100ml, Brand: sephora, Price old: 2,500,000 VND, Sale: 0%, Price new: 2,500,000 VND\n",
      "Name: Nước hoa Jo Malone London Wood Sage & Sea Salt Cologne 100ml, Brand: sephora, Price old: 2,500,000 VND, Sale: 0%, Price new: 2,500,000 VND\n",
      "Name: Nước hoa nữ Euphoria by CALVIN KLEIN EDP 100ML, Brand: sephora, Price old: 1,150,000 VND, Sale: 0%, Price new: 1,150,000 VND\n",
      "Name: Nước hoa nữ Ck One Shock by CALVIN KLEIN EDT 100ml, Brand: Amazon, Price old: 690,000 VND, Sale: 0%, Price new: 690,000 VND\n",
      "Name: Nước hoa nữ Gucci Guilty EDT 50ml, Brand: sephora, Price old: 1,750,000 VND, Sale: 0%, Price new: 1,750,000 VND\n",
      "Name: Nước hoa nữ Mon Paris by YVES SAINT LAURENT EDT 50ML, Brand: sephora, Price old: 1,800,000 VND, Sale: 0%, Price new: 1,800,000 VND\n",
      "Name: Nước hoa nữ La Vie Est Belle By LANCOME EDP 50ML, Brand: sephora, Price old: 1,850,000 VND, Sale: 0%, Price new: 1,850,000 VND\n",
      "Name: Nước hoa nữ Miss Dior Cherie by CHRISTIAN DIOR EDT 50ML, Brand: sephora, Price old: 2,100,000 VND, Sale: 0%, Price new: 2,100,000 VND\n",
      "Name: Nước hoa nữ Lacoste Pour Femme EDP 90ML, Brand: Walmart, Price old: 899,000 VND, Sale: 0%, Price new: 899,000 VND\n",
      "Name: Nước hoa nữ Her by Burberry EDP 100ml, Brand: Jomashop.com, Price old: 1,700,000 VND, Sale: 0%, Price new: 1,700,000 VND\n",
      "Name: Nước hoa nữ Miss Dior Rose N'Roses BY CHRISTIAN DIOR EDT 100ML, Brand: Costco, Price old: 2,800,000 VND, Sale: 0%, Price new: 2,800,000 VND\n",
      "Name: Nước hoa nữ Divine Decadence by Marc Jacobs EDP 100ml, Brand: Walmart, Price old: 2,100,000 VND, Sale: 0%, Price new: 2,100,000 VND\n",
      "Name: Nước hoa nữ Nomade by Chloe EDT 75ml, Brand: Jomashop.com, Price old: 1,800,000 VND, Sale: 0%, Price new: 1,800,000 VND\n",
      "Name: Nước hoa nữ Eau Des Merveilles Bleue by Hermes EDT 100 ml, Brand: Jomashop.com, Price old: 2,400,000 VND, Sale: 0%, Price new: 2,400,000 VND\n",
      "Name: Nước hoa Unisex Gucci Memoire D'une Odeur EDP 100ml, Brand: Amazon, Price old: 2,100,000 VND, Sale: 0%, Price new: 2,100,000 VND\n",
      "Name: Nước hoa nữ Run Wild By DAVIDOFF EDP 100ml, Brand: Walmart, Price old: 750,000 VND, Sale: 0%, Price new: 750,000 VND\n",
      "Name: Nước hoa nữ Miss Dior Cherie by CHRISTIAN DIOR EDT 100ML (UNBOXING), Brand: sephora, Price old: 2,350,000 VND, Sale: 0%, Price new: 2,350,000 VND\n",
      "Name: Viva La Juicy Perfume 100ml, Brand: sephora, Price old: 1,169,000 VND, Sale: 0%, Price new: 1,169,000 VND\n",
      "Name: Nước hoa Daisy Dream by Marc Jacobs, Brand: sephora, Price old: 1,610,000 VND, Sale: 0%, Price new: 1,610,000 VND\n",
      "Name: Shalimar by Guerlain EDT 90ML, Brand: sephora, Price old: 1,200,000 VND, Sale: 0%, Price new: 1,200,000 VND\n",
      "Name: Nước hoa Twilly d'Hermes  EDP 85ml, Brand: sephora, Price old: 2,700,000 VND, Sale: 0%, Price new: 2,700,000 VND\n",
      "Name: Calvin Klein Sheer Beauty, Brand: Walmart, Price old: 850,000 VND, Sale: 0%, Price new: 850,000 VND\n",
      "Name: Jimmy Choo Perfume EDP 100ml, Brand: Amazon, Price old: 1,550,000 VND, Sale: 0%, Price new: 1,550,000 VND\n",
      "Name: NƯỚC HOA NỮ EAU DE TOILETTE  BVLGARI OMNIA AMETHYSTE 65ML, Brand: Walmart, Price old: 1,650,000 VND, Sale: 0%, Price new: 1,650,000 VND\n",
      "Name: NƯỚC HOA NỮ THE ONE BY DOLCE & GABBANA EDP 75ML, Brand: sephora, Price old: None, Sale: 0%, Price new: None\n",
      "Name: Marc Jacobs Decadence EDP 100ML, Brand: sephora, Price old: 1,750,000 VND, Sale: 0%, Price new: 1,750,000 VND\n",
      "Name: Nước hoa My Burberry EDT Perfume (90ml) For Women, Brand: sephora, Price old: 1,550,000 VND, Sale: 0%, Price new: 1,550,000 VND\n",
      "Name: Nước hoa Daisy by Marc Jacobs EDT 50ml, Brand: sephora, Price old: 1,490,000 VND, Sale: 0%, Price new: 1,490,000 VND\n",
      "Name: GUERLAIN Ladies La Petite Robe Noire Ma Robe Plissee EDT 100 ml, Brand: Jomashop.com, Price old: 1,241,000 VND, Sale: 0%, Price new: 1,241,000 VND\n",
      "Name: Nước hoa Jimmy Choo Blossom EDP 60ml, Brand: sephora, Price old: 1,250,000 VND, Sale: 0%, Price new: 1,250,000 VND\n",
      "Name: NƯỚC HOA NỮ CHLOE BY CHLOE EDT 75ML, Brand: sephora, Price old: 1,900,000 VND, Sale: 0%, Price new: 1,900,000 VND\n",
      "Name: Nước hoa Hermes Un Jardin Sur Le Nil EDT 50ml, Brand: sephora, Price old: 1,950,000 VND, Sale: 0%, Price new: 1,950,000 VND\n",
      "Name: NƯỚC HOA NỮ PINK SUGAR BY AQUOLINA EDT 100ML, Brand: sephora, Price old: 750,000 VND, Sale: 0%, Price new: 750,000 VND\n",
      "Name: NƯỚC HOA NỮ COACH BY COACH EDP 90ML, Brand: Walmart, Price old: 1,350,000 VND, Sale: 0%, Price new: 1,350,000 VND\n",
      "Name: Marc Jacobs Decadence EDP 50ML, Brand: sephora, Price old: 1,350,000 VND, Sale: 0%, Price new: 1,350,000 VND\n",
      "Name: Nước hoa nữ Versace Yellow Diamond EDT 90ml, Brand: Jomashop.com, Price old: 1,550,000 VND, Sale: 0%, Price new: 1,550,000 VND\n",
      "Name: Narciso Rodriguez by Narciso Rodriguez EDP 100ml, Brand: Jomashop.com, Price old: 2,450,000 VND, Sale: 0%, Price new: 2,450,000 VND\n",
      "Name: Nước hoa Burberry Brit Perfume 100ml, Brand: Walmart, Price old: 1,311,000 VND, Sale: 0%, Price new: 1,311,000 VND\n",
      "Name: Nước hoa Moschino Toy 2 100ml, Brand: sephora, Price old: 1,635,000 VND, Sale: 0%, Price new: 1,635,000 VND\n",
      "Name: Nước hoa nữ Gucci Bamboo EDT 75ml, Brand: Jomashop.com, Price old: 2,300,000 VND, Sale: 0%, Price new: 2,300,000 VND\n",
      "Name: Nước hoa Tommy Hilfiger Tommy Girl 100ml, Brand: Amazon, Price old: 990,000 VND, Sale: 0%, Price new: 990,000 VND\n",
      "Name: Nước hoa unisex Maison Margiela Replica By the Fireplace EDT 100ml, Brand: sephora, Price old: 3,100,000 VND, Sale: 0%, Price new: 3,100,000 VND\n"
     ]
    }
   ],
   "source": [
    "for item in products:\n",
    "    print(str(item))"
   ]
  },
  {
   "cell_type": "code",
   "execution_count": 43,
   "metadata": {},
   "outputs": [
    {
     "data": {
      "text/plain": [
       "177"
      ]
     },
     "execution_count": 43,
     "metadata": {},
     "output_type": "execute_result"
    }
   ],
   "source": [
    "len(products)"
   ]
  },
  {
   "cell_type": "code",
   "execution_count": 44,
   "metadata": {},
   "outputs": [],
   "source": [
    "for item in products:\n",
    "    df = pd.concat([df, pd.DataFrame([vars(item)])], ignore_index=True)"
   ]
  },
  {
   "cell_type": "code",
   "execution_count": 45,
   "metadata": {},
   "outputs": [],
   "source": [
    "df.to_csv('Crawl/Data/Data_vinaquick.csv', index=False)"
   ]
  },
  {
   "cell_type": "code",
   "execution_count": 46,
   "metadata": {},
   "outputs": [],
   "source": [
    "with open('Crawl/Data/productstest.txt', 'w', encoding = 'utf-8') as file:\n",
    "    for item in products:\n",
    "        file.write(str(item) + '\\n')"
   ]
  },
  {
   "cell_type": "code",
   "execution_count": 47,
   "metadata": {},
   "outputs": [
    {
     "data": {
      "text/plain": [
       "\"with open('Crawl/Data/products.txt', 'a', encoding = 'utf-8') as file:\\n    for item in products:\\n        file.write(str(item) + '\\n')\""
      ]
     },
     "execution_count": 47,
     "metadata": {},
     "output_type": "execute_result"
    }
   ],
   "source": [
    "'''with open('Crawl/Data/products.txt', 'a', encoding = 'utf-8') as file:\n",
    "    for item in products:\n",
    "        file.write(str(item) + '\\n')'''"
   ]
  },
  {
   "cell_type": "code",
   "execution_count": null,
   "metadata": {},
   "outputs": [],
   "source": []
  }
 ],
 "metadata": {
  "kernelspec": {
   "display_name": "Python 3",
   "language": "python",
   "name": "python3"
  },
  "language_info": {
   "codemirror_mode": {
    "name": "ipython",
    "version": 3
   },
   "file_extension": ".py",
   "mimetype": "text/x-python",
   "name": "python",
   "nbconvert_exporter": "python",
   "pygments_lexer": "ipython3",
   "version": "3.12.0"
  }
 },
 "nbformat": 4,
 "nbformat_minor": 2
}
