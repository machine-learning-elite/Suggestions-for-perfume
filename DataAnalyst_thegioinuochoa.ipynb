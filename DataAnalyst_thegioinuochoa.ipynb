{
 "cells": [
  {
   "cell_type": "code",
   "execution_count": 95,
   "metadata": {},
   "outputs": [
    {
     "name": "stdout",
     "output_type": "stream",
     "text": [
      "Requirement already satisfied: beautifulsoup4 in /Library/Frameworks/Python.framework/Versions/3.12/lib/python3.12/site-packages (4.12.3)\n",
      "Requirement already satisfied: soupsieve>1.2 in /Library/Frameworks/Python.framework/Versions/3.12/lib/python3.12/site-packages (from beautifulsoup4) (2.5)\n",
      "\n",
      "\u001b[1m[\u001b[0m\u001b[34;49mnotice\u001b[0m\u001b[1;39;49m]\u001b[0m\u001b[39;49m A new release of pip is available: \u001b[0m\u001b[31;49m23.2.1\u001b[0m\u001b[39;49m -> \u001b[0m\u001b[32;49m24.0\u001b[0m\n",
      "\u001b[1m[\u001b[0m\u001b[34;49mnotice\u001b[0m\u001b[1;39;49m]\u001b[0m\u001b[39;49m To update, run: \u001b[0m\u001b[32;49mpip3 install --upgrade pip\u001b[0m\n",
      "Note: you may need to restart the kernel to use updated packages.\n"
     ]
    }
   ],
   "source": [
    "pip install beautifulsoup4"
   ]
  },
  {
   "cell_type": "code",
   "execution_count": 96,
   "metadata": {},
   "outputs": [],
   "source": [
    "from bs4 import BeautifulSoup"
   ]
  },
  {
   "cell_type": "code",
   "execution_count": 97,
   "metadata": {},
   "outputs": [],
   "source": [
    "with open( 'thegioinuochoanamtest.html', 'r', encoding = 'utf-8') as file:\n",
    "    html_content = file.read()"
   ]
  },
  {
   "cell_type": "code",
   "execution_count": 98,
   "metadata": {},
   "outputs": [],
   "source": [
    "soup = BeautifulSoup(html_content, 'html.parser')"
   ]
  },
  {
   "cell_type": "code",
   "execution_count": 99,
   "metadata": {},
   "outputs": [
    {
     "data": {
      "text/plain": [
       "<title>Nước hoa Nam - Thế Giới Nước Hoa</title>"
      ]
     },
     "execution_count": 99,
     "metadata": {},
     "output_type": "execute_result"
    }
   ],
   "source": [
    "soup.title"
   ]
  },
  {
   "cell_type": "code",
   "execution_count": 100,
   "metadata": {},
   "outputs": [
    {
     "data": {
      "text/plain": [
       "<div class=\"product-item\"><div class=\"prominent prominent-sale\"></div><a class=\"product-item-thumb\" href=\"/dolce-gabbana/7781-nuoc-hoa-dolce-gabbana-the-one-gold-pour-homme-edp-intense.html\"><img class=\"lazy img\" data-original=\"https://www.thegioinuochoa.com.vn/uploads/item_product/thumb1200x200/202404/20240423110236_135322.png\" src=\"data:image/gif;base64,R0lGODlhAQABAJECAAAAMwAAAP///wAAACH5BAEAAAIALAAAAAABAAEAAAICVAEAOw==\" title=\"Nước hoa Dolce&amp;Gabbana The One Gold Pour Homme EDP Intense \"/></a><div class=\"product-item-body\"><a class=\"product-name pro-color\" href=\"/dolce-gabbana/7781-nuoc-hoa-dolce-gabbana-the-one-gold-pour-homme-edp-intense.html\" title=\"Nước hoa Dolce&amp;Gabbana The One Gold Pour Homme EDP Intense \"><h3>Nước hoa Dolce&amp;Gabbana The One Gold Pour Homme EDP Intense </h3></a><a class=\"product-brand pro-color\" href=\"/dolce-gabbana\" title=\"Dolce &amp; Gabbana\">Dolce &amp; Gabbana</a><div class=\"product-price row\"><div><span class=\"discount-price\">4.200.000</span><span class=\"percent\">(-4%)</span></div><span>4.032.000</span></div></div></div>"
      ]
     },
     "execution_count": 100,
     "metadata": {},
     "output_type": "execute_result"
    }
   ],
   "source": [
    "product = soup.find_all('div', class_ = 'product-item')\n",
    "product[0]"
   ]
  },
  {
   "cell_type": "code",
   "execution_count": 101,
   "metadata": {},
   "outputs": [],
   "source": [
    "products = []\n",
    "class Product:\n",
    "    def __init__(self, name, brand, price):\n",
    "        self.name = name\n",
    "        self.brand = brand\n",
    "        self.price = price\n",
    "    def __str__(self):\n",
    "        return f\"Name: {self.name}, Brand: {self.brand}, Price: {self.price}\""
   ]
  },
  {
   "cell_type": "code",
   "execution_count": 102,
   "metadata": {},
   "outputs": [],
   "source": [
    "for item in product:\n",
    "    name = item.find('h3').text.strip()\n",
    "    if name:\n",
    "        pass\n",
    "    else:\n",
    "        name = None\n",
    "\n",
    "    brand = item.find('a', class_='product-brand pro-color').text.strip()\n",
    "    if brand:\n",
    "        pass\n",
    "    else:\n",
    "        brand = None\n",
    "\n",
    "    price = item.find('span', class_='discount-price').text\n",
    "    if price:\n",
    "        pass\n",
    "    else:\n",
    "        price = None\n",
    "    # Tạo một đối tượng Product mới và thêm vào danh sách products\n",
    "    products.append(Product(name, brand, price))"
   ]
  },
  {
   "cell_type": "code",
   "execution_count": 103,
   "metadata": {},
   "outputs": [
    {
     "name": "stdout",
     "output_type": "stream",
     "text": [
      "Name: Nước hoa Dolce&Gabbana The One Gold Pour Homme EDP Intense, Brand: Dolce & Gabbana, Price: 4.200.000\n",
      "Name: Nước hoa Dolce&Gabbana K Pour Homme EDP Intense, Brand: Dolce & Gabbana, Price: 3.780.000\n",
      "Name: Nước hoa Dolce & Gabbana Intenso Pour Homme EDP, Brand: Dolce & Gabbana, Price: 2.850.000\n",
      "Name: Nước hoa YSL La Nuit de L’Homme EDT, Brand: Yves Saint Laurent, Price: 4.220.000\n",
      "Name: Narciso Rodriguez Vetiver Musc For Him EDT, Brand: Narciso Rodriguez, Price: 2.730.000\n",
      "Name: Nước hoa YSL Y Le Parfum EDP, Brand: Yves Saint Laurent, Price: 5.460.000\n",
      "Name: Nước hoa Mcm Onyx EDP, Brand: MCM, Price: 2.190.000\n",
      "Name: Nước hoa JPG LE MALE ELIXIR 23 EDP, Brand: Jean Paul Gaultier, Price: 3.860.000\n",
      "Name: Nước hoa L'HOMME LE PARFUM EDP, Brand: Yves Saint Laurent, Price: 4.810.000\n",
      "Name: Sữa tắm CALVIN KLEIN DEFY FOR MEN HAIR & BODY WASH, Brand: Calvin Klein, Price: 500.000\n",
      "Name: Nước hoa Valentino Uomo Born In Roma Coral Fantasy EDT, Brand: Valentino, Price: 2.255.000\n",
      "Name: Nước hoa Valentino Uomo Born In Roma Yellow Dream EDT, Brand: Valentino, Price: 2.890.000\n",
      "Name: Nước hoa Valentino Uomo Born In Roma EDT, Brand: Valentino, Price: 2.890.000\n",
      "Name: Nước hoa Valentino Uomo EDT, Brand: Valentino, Price: 2.890.000\n",
      "Name: Nước Hoa Azzaro The Most Wanted EDP Intense, Brand: Azzaro, Price: 2.890.000\n",
      "Name: Nước hoa Giorgio Armani Acqua Di Gio Parfum Vaporisateur Rechargeable Refillable Spray, Brand: Giorgio Armani, Price: 1.949.000\n",
      "Name: Nước hoa Gucci Guilty Elixir De Parfum Pour Homme, Brand: Gucci, Price: 4.280.000\n",
      "Name: Nước hoa Hugo Boss Bottled Elixir, Brand: Hugo Boss, Price: 3.710.000\n",
      "Name: Nước hoa Calvin Klein Defy Parfum, Brand: Calvin Klein, Price: 4.140.000\n",
      "Name: Nước hoa Hugo Boss Boss Bottled Parfum, Brand: Hugo Boss, Price: 4.430.000\n",
      "Name: Nước hoa Montblanc Explorer Platinum EDP, Brand: Mont Blanc, Price: 2.950.000\n",
      "Name: Nước hoa Coach Green EDT, Brand: Coach, Price: 1.850.000\n",
      "Name: Nước Hoa Giorgio Armani Acqua Di Gio For Men EDT, Brand: Giorgio Armani, Price: 3.049.000\n",
      "Name: Nước hoa Armani Code For Men EDT, Brand: Giorgio Armani, Price: 2.750.000\n",
      "Name: Nước hoa Y EDP, Brand: Yves Saint Laurent, Price: 4.590.000\n",
      "Name: Nước hoa Prada Luna Rossa EDT, Brand: Prada, Price: 3.047.000\n",
      "Name: Nước Hoa Prada Luna Rossa Ocean EDT, Brand: Prada, Price: 3.047.000\n",
      "Name: Nước hoa Giorgio Armani Acqua Di Gio EDP, Brand: Giorgio Armani, Price: 3.949.000\n",
      "Name: Nước hoa Dolce&Gabbana Light Blue Summer Vibes Pour Homme EDT, Brand: Dolce & Gabbana, Price: 3.550.000\n",
      "Name: Nước hoa Scandal Pour Homme Le Parfum EDP, Brand: Jean Paul Gaultier, Price: 3.720.000\n",
      "Name: Nước hoa Dolce&Gabbana K EDT, Brand: Dolce & Gabbana, Price: 3.750.000\n",
      "Name: Nước hoa Versace Eros Parfum, Brand: Versace, Price: 3.388.000\n",
      "Name: Nước hoa Calvin Klein Defy EDP, Brand: Calvin Klein, Price: 3.010.000\n",
      "Name: Nước hoa Jean Paul Gaultier Le Male EDT Xmas Collector 125ml, Brand: Jean Paul Gaultier, Price: 2.550.000\n",
      "Name: Nước hoa Mercedes-Benz Man Bright EDP, Brand: Mercedes Benz, Price: 1.950.000\n",
      "Name: Nước hoa Burberry Hero EDP, Brand: Burberry, Price: 3.580.000\n"
     ]
    }
   ],
   "source": [
    "for item in products:\n",
    "    print(str(item))"
   ]
  },
  {
   "cell_type": "code",
   "execution_count": 104,
   "metadata": {},
   "outputs": [
    {
     "data": {
      "text/plain": [
       "36"
      ]
     },
     "execution_count": 104,
     "metadata": {},
     "output_type": "execute_result"
    }
   ],
   "source": [
    "len(products)"
   ]
  },
  {
   "cell_type": "code",
   "execution_count": 105,
   "metadata": {},
   "outputs": [],
   "source": [
    "with open( 'thegioinuochoanutest.html', 'r', encoding = 'utf-8') as file:\n",
    "    html_content = file.read()"
   ]
  },
  {
   "cell_type": "code",
   "execution_count": 106,
   "metadata": {},
   "outputs": [],
   "source": [
    "soup = BeautifulSoup(html_content, 'html.parser')"
   ]
  },
  {
   "cell_type": "code",
   "execution_count": 107,
   "metadata": {},
   "outputs": [
    {
     "data": {
      "text/plain": [
       "<title>Nước hoa Nữ - Thế Giới Nước Hoa</title>"
      ]
     },
     "execution_count": 107,
     "metadata": {},
     "output_type": "execute_result"
    }
   ],
   "source": [
    "soup.title"
   ]
  },
  {
   "cell_type": "code",
   "execution_count": 108,
   "metadata": {},
   "outputs": [
    {
     "data": {
      "text/plain": [
       "<div class=\"product-item\"><div class=\"prominent prominent-sale\"></div><a class=\"product-item-thumb\" href=\"/dolce-gabbana/7782-nuoc-hoa-dolce-gabbana-the-only-one-edp-intense.html\"><img class=\"lazy img\" data-original=\"https://www.thegioinuochoa.com.vn/uploads/item_product/thumb1200x200/202404/20240423111738_086025.png\" src=\"data:image/gif;base64,R0lGODlhAQABAJECAAAAMwAAAP///wAAACH5BAEAAAIALAAAAAABAAEAAAICVAEAOw==\" title=\"Nước hoa Dolce &amp; Gabbana The Only One EDP Intense \"/></a><div class=\"product-item-body\"><a class=\"product-name pro-color\" href=\"/dolce-gabbana/7782-nuoc-hoa-dolce-gabbana-the-only-one-edp-intense.html\" title=\"Nước hoa Dolce &amp; Gabbana The Only One EDP Intense \"><h3>Nước hoa Dolce &amp; Gabbana The Only One EDP Intense </h3></a><a class=\"product-brand pro-color\" href=\"/dolce-gabbana\" title=\"Dolce &amp; Gabbana\">Dolce &amp; Gabbana</a><div class=\"product-price row\"><div><span class=\"discount-price\">5.250.000</span><span class=\"percent\">(-4%)</span></div><span>5.040.000</span></div></div></div>"
      ]
     },
     "execution_count": 108,
     "metadata": {},
     "output_type": "execute_result"
    }
   ],
   "source": [
    "product = soup.find_all('div', class_ = 'product-item')\n",
    "product[0]"
   ]
  },
  {
   "cell_type": "code",
   "execution_count": 109,
   "metadata": {},
   "outputs": [],
   "source": [
    "for item in product:\n",
    "    name = item.find('h3').text.strip()\n",
    "    if name:\n",
    "        pass\n",
    "    else:\n",
    "        name = None\n",
    "\n",
    "    brand = item.find('a', class_='product-brand pro-color').text.strip()\n",
    "    if brand:\n",
    "        pass\n",
    "    else:\n",
    "        brand = None\n",
    "\n",
    "    price = item.find('span', class_='discount-price').text\n",
    "    if price:\n",
    "        pass\n",
    "    else:\n",
    "        price = None\n",
    "    # Tạo một đối tượng Product mới và thêm vào danh sách products\n",
    "    products.append(Product(name, brand, price))"
   ]
  },
  {
   "cell_type": "code",
   "execution_count": 110,
   "metadata": {},
   "outputs": [
    {
     "name": "stdout",
     "output_type": "stream",
     "text": [
      "Name: Nước hoa Dolce&Gabbana The One Gold Pour Homme EDP Intense, Brand: Dolce & Gabbana, Price: 4.200.000\n",
      "Name: Nước hoa Dolce&Gabbana K Pour Homme EDP Intense, Brand: Dolce & Gabbana, Price: 3.780.000\n",
      "Name: Nước hoa Dolce & Gabbana Intenso Pour Homme EDP, Brand: Dolce & Gabbana, Price: 2.850.000\n",
      "Name: Nước hoa YSL La Nuit de L’Homme EDT, Brand: Yves Saint Laurent, Price: 4.220.000\n",
      "Name: Narciso Rodriguez Vetiver Musc For Him EDT, Brand: Narciso Rodriguez, Price: 2.730.000\n",
      "Name: Nước hoa YSL Y Le Parfum EDP, Brand: Yves Saint Laurent, Price: 5.460.000\n",
      "Name: Nước hoa Mcm Onyx EDP, Brand: MCM, Price: 2.190.000\n",
      "Name: Nước hoa JPG LE MALE ELIXIR 23 EDP, Brand: Jean Paul Gaultier, Price: 3.860.000\n",
      "Name: Nước hoa L'HOMME LE PARFUM EDP, Brand: Yves Saint Laurent, Price: 4.810.000\n",
      "Name: Sữa tắm CALVIN KLEIN DEFY FOR MEN HAIR & BODY WASH, Brand: Calvin Klein, Price: 500.000\n",
      "Name: Nước hoa Valentino Uomo Born In Roma Coral Fantasy EDT, Brand: Valentino, Price: 2.255.000\n",
      "Name: Nước hoa Valentino Uomo Born In Roma Yellow Dream EDT, Brand: Valentino, Price: 2.890.000\n",
      "Name: Nước hoa Valentino Uomo Born In Roma EDT, Brand: Valentino, Price: 2.890.000\n",
      "Name: Nước hoa Valentino Uomo EDT, Brand: Valentino, Price: 2.890.000\n",
      "Name: Nước Hoa Azzaro The Most Wanted EDP Intense, Brand: Azzaro, Price: 2.890.000\n",
      "Name: Nước hoa Giorgio Armani Acqua Di Gio Parfum Vaporisateur Rechargeable Refillable Spray, Brand: Giorgio Armani, Price: 1.949.000\n",
      "Name: Nước hoa Gucci Guilty Elixir De Parfum Pour Homme, Brand: Gucci, Price: 4.280.000\n",
      "Name: Nước hoa Hugo Boss Bottled Elixir, Brand: Hugo Boss, Price: 3.710.000\n",
      "Name: Nước hoa Calvin Klein Defy Parfum, Brand: Calvin Klein, Price: 4.140.000\n",
      "Name: Nước hoa Hugo Boss Boss Bottled Parfum, Brand: Hugo Boss, Price: 4.430.000\n",
      "Name: Nước hoa Montblanc Explorer Platinum EDP, Brand: Mont Blanc, Price: 2.950.000\n",
      "Name: Nước hoa Coach Green EDT, Brand: Coach, Price: 1.850.000\n",
      "Name: Nước Hoa Giorgio Armani Acqua Di Gio For Men EDT, Brand: Giorgio Armani, Price: 3.049.000\n",
      "Name: Nước hoa Armani Code For Men EDT, Brand: Giorgio Armani, Price: 2.750.000\n",
      "Name: Nước hoa Y EDP, Brand: Yves Saint Laurent, Price: 4.590.000\n",
      "Name: Nước hoa Prada Luna Rossa EDT, Brand: Prada, Price: 3.047.000\n",
      "Name: Nước Hoa Prada Luna Rossa Ocean EDT, Brand: Prada, Price: 3.047.000\n",
      "Name: Nước hoa Giorgio Armani Acqua Di Gio EDP, Brand: Giorgio Armani, Price: 3.949.000\n",
      "Name: Nước hoa Dolce&Gabbana Light Blue Summer Vibes Pour Homme EDT, Brand: Dolce & Gabbana, Price: 3.550.000\n",
      "Name: Nước hoa Scandal Pour Homme Le Parfum EDP, Brand: Jean Paul Gaultier, Price: 3.720.000\n",
      "Name: Nước hoa Dolce&Gabbana K EDT, Brand: Dolce & Gabbana, Price: 3.750.000\n",
      "Name: Nước hoa Versace Eros Parfum, Brand: Versace, Price: 3.388.000\n",
      "Name: Nước hoa Calvin Klein Defy EDP, Brand: Calvin Klein, Price: 3.010.000\n",
      "Name: Nước hoa Jean Paul Gaultier Le Male EDT Xmas Collector 125ml, Brand: Jean Paul Gaultier, Price: 2.550.000\n",
      "Name: Nước hoa Mercedes-Benz Man Bright EDP, Brand: Mercedes Benz, Price: 1.950.000\n",
      "Name: Nước hoa Burberry Hero EDP, Brand: Burberry, Price: 3.580.000\n",
      "Name: Nước hoa Dolce & Gabbana The Only One EDP Intense, Brand: Dolce & Gabbana, Price: 5.250.000\n",
      "Name: Nước hoa Dolce&Gabbana The One Gold EDP Intense, Brand: Dolce & Gabbana, Price: 3.850.000\n",
      "Name: Nước hoa Dolce & Gabbana Q EDP Intense, Brand: Dolce & Gabbana, Price: 5.100.000\n",
      "Name: Nước hoa L'Eau d'IsseySolar Violet EDTI, Brand: Issey Miyake, Price: 3.240.000\n",
      "Name: Nước hoa L'Eau d'Issey pour Homme Solar Lavender EDTI, Brand: Issey Miyake, Price: 2.060.000\n",
      "Name: Giftset YSL Black Opium EDP 4PCS, Brand: Yves Saint Laurent, Price: 3.870.000\n",
      "Name: Giftset YSL Black Opium EDP 3PCS, Brand: Yves Saint Laurent, Price: 4.060.000\n",
      "Name: Nước hoa Carolina Herrera Good Girl EDP, Brand: Carolina Herrera, Price: 2.010.000\n",
      "Name: Giftset YSL Libre EDP 3PCS, Brand: Yves Saint Laurent, Price: 3.870.000\n",
      "Name: Giftset YSL Libre EDP 3PCS, Brand: Yves Saint Laurent, Price: 5.050.000\n",
      "Name: Issey Miyake Ladies A Drop D'issey Essentielle EDP, Brand: Issey Miyake, Price: 3.280.000\n",
      "Name: Narciso Rodriguez Musc Nude For Her EDP, Brand: Narciso Rodriguez, Price: 3.850.000\n",
      "Name: Nước hoa Chloé Signature Lumineuse Roses EDP, Brand: Chloe, Price: 5.380.000\n",
      "Name: Nước hoa Burberry Her Petals Limited Edition, Brand: Burberry, Price: 5.050.000\n",
      "Name: Giftset Lancôme Miracle EDP 3PCS, Brand: Lancôme, Price: 2.100.000\n",
      "Name: Giftset Lancôme La Nuit Tresor 3PCS, Brand: Lancôme, Price: 2.800.000\n",
      "Name: Nước hoa Valentino Donna Born In Roma Intense EDP, Brand: Valentino, Price: 4.730.000\n",
      "Name: NƯỚC HOA LANCÔME LA VIE EST BELLE IRIS ABSOLU EDP, Brand: Lancôme, Price: 4.900.000\n",
      "Name: Nước hoa LIBRE EDT, Brand: Yves Saint Laurent, Price: 4.740.000\n",
      "Name: Nước hoa Black Opium EDP, Brand: Yves Saint Laurent, Price: 5.050.000\n",
      "Name: Nước hoa Coach Love EDP, Brand: Coach, Price: 2.900.000\n",
      "Name: Nước hoa JPG FEMME DIVINE 23 EDP, Brand: Jean Paul Gaultier, Price: 2.230.000\n",
      "Name: Nước hoa Giorgio Armani My Way Parfum EDP, Brand: Giorgio Armani, Price: 2.354.000\n",
      "Name: Nước hoa Giorgio Armani Sì Passione Eclat EDP, Brand: Giorgio Armani, Price: 4.100.000\n",
      "Name: Nước hoa Giorgio Armani Sì Passione Intense EDP, Brand: Giorgio Armani, Price: 3.590.000\n",
      "Name: Nước hoa Giorgio Armani Si EDP, Brand: Giorgio Armani, Price: 4.100.000\n",
      "Name: Nước hoa Mon Paris Intensement EDP, Brand: Yves Saint Laurent, Price: 4.270.000\n",
      "Name: NƯỚC HOA YSL LIBRE EDP - HOL 2023 OS, Brand: Yves Saint Laurent, Price: 3.870.000\n",
      "Name: Nước hoa Valentino Valentina EDP, Brand: Valentino, Price: 3.443.000\n",
      "Name: Nước hoa Valentino Donna Born In Roma Coral Fantasy EDP, Brand: Valentino, Price: 4.349.000\n",
      "Name: Nước hoa Valentino Donna Born In Roma Yellow Dream EDP, Brand: Valentino, Price: 2.948.000\n",
      "Name: Nước hoa Valentino Donna Born In Roma EDP, Brand: Valentino, Price: 4.349.000\n",
      "Name: Nước hoa Valentino Donna EDP, Brand: Valentino, Price: 2.145.000\n",
      "Name: Nước hoa Mugler Alien EDP Talisman Rechargeable Refillable Talisman, Brand: Thierry Mugler, Price: 3.849.000\n",
      "Name: Nước hoa Giorgio Armani Acqua di Gioia EDP, Brand: Giorgio Armani, Price: 3.290.000\n",
      "Name: Nước hoa Lancome La Vie Est Belle Gold L’Extrait, Brand: Lancôme, Price: 2.990.000\n"
     ]
    }
   ],
   "source": [
    "for item in products:\n",
    "    print(str(item))"
   ]
  },
  {
   "cell_type": "code",
   "execution_count": 111,
   "metadata": {},
   "outputs": [
    {
     "data": {
      "text/plain": [
       "72"
      ]
     },
     "execution_count": 111,
     "metadata": {},
     "output_type": "execute_result"
    }
   ],
   "source": [
    "len(products)"
   ]
  },
  {
   "cell_type": "code",
   "execution_count": 112,
   "metadata": {},
   "outputs": [
    {
     "data": {
      "text/plain": [
       "\"with open('products.txt', 'a', encoding = 'utf-8') as file:\\n    for item in products:\\n        file.write(str(item) + '\\n')\""
      ]
     },
     "execution_count": 112,
     "metadata": {},
     "output_type": "execute_result"
    }
   ],
   "source": [
    "'''with open('products.txt', 'a', encoding = 'utf-8') as file:\n",
    "    for item in products:\n",
    "        file.write(str(item) + '\\n')'''"
   ]
  }
 ],
 "metadata": {
  "kernelspec": {
   "display_name": "Python 3",
   "language": "python",
   "name": "python3"
  },
  "language_info": {
   "codemirror_mode": {
    "name": "ipython",
    "version": 3
   },
   "file_extension": ".py",
   "mimetype": "text/x-python",
   "name": "python",
   "nbconvert_exporter": "python",
   "pygments_lexer": "ipython3",
   "version": "3.12.0"
  }
 },
 "nbformat": 4,
 "nbformat_minor": 2
}
