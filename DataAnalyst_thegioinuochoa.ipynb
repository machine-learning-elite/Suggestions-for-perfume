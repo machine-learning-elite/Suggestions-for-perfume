{
 "cells": [
  {
   "cell_type": "code",
   "execution_count": 142,
   "metadata": {},
   "outputs": [
    {
     "name": "stdout",
     "output_type": "stream",
     "text": [
      "Requirement already satisfied: beautifulsoup4 in /Library/Frameworks/Python.framework/Versions/3.12/lib/python3.12/site-packages (4.12.3)\n",
      "Requirement already satisfied: soupsieve>1.2 in /Library/Frameworks/Python.framework/Versions/3.12/lib/python3.12/site-packages (from beautifulsoup4) (2.5)\n",
      "\n",
      "\u001b[1m[\u001b[0m\u001b[34;49mnotice\u001b[0m\u001b[1;39;49m]\u001b[0m\u001b[39;49m A new release of pip is available: \u001b[0m\u001b[31;49m23.2.1\u001b[0m\u001b[39;49m -> \u001b[0m\u001b[32;49m24.0\u001b[0m\n",
      "\u001b[1m[\u001b[0m\u001b[34;49mnotice\u001b[0m\u001b[1;39;49m]\u001b[0m\u001b[39;49m To update, run: \u001b[0m\u001b[32;49mpip3 install --upgrade pip\u001b[0m\n",
      "Note: you may need to restart the kernel to use updated packages.\n"
     ]
    }
   ],
   "source": [
    "pip install beautifulsoup4"
   ]
  },
  {
   "cell_type": "code",
   "execution_count": 143,
   "metadata": {},
   "outputs": [],
   "source": [
    "from bs4 import BeautifulSoup"
   ]
  },
  {
   "cell_type": "code",
   "execution_count": 144,
   "metadata": {},
   "outputs": [],
   "source": [
    "with open( 'thegioinuochoanamtest.html', 'r', encoding = 'utf-8') as file:\n",
    "    html_content = file.read()"
   ]
  },
  {
   "cell_type": "code",
   "execution_count": 145,
   "metadata": {},
   "outputs": [],
   "source": [
    "soup = BeautifulSoup(html_content, 'html.parser')"
   ]
  },
  {
   "cell_type": "code",
   "execution_count": 146,
   "metadata": {},
   "outputs": [
    {
     "data": {
      "text/plain": [
       "<title>Nước hoa Nam - Thế Giới Nước Hoa</title>"
      ]
     },
     "execution_count": 146,
     "metadata": {},
     "output_type": "execute_result"
    }
   ],
   "source": [
    "soup.title"
   ]
  },
  {
   "cell_type": "code",
   "execution_count": 147,
   "metadata": {},
   "outputs": [
    {
     "data": {
      "text/plain": [
       "<div class=\"product-item\"><div class=\"prominent prominent-sale\"></div><a class=\"product-item-thumb\" href=\"/dolce-gabbana/7781-nuoc-hoa-dolce-gabbana-the-one-gold-pour-homme-edp-intense.html\"><img class=\"lazy img\" data-original=\"https://www.thegioinuochoa.com.vn/uploads/item_product/thumb1200x200/202404/20240423110236_135322.png\" src=\"data:image/gif;base64,R0lGODlhAQABAJECAAAAMwAAAP///wAAACH5BAEAAAIALAAAAAABAAEAAAICVAEAOw==\" title=\"Nước hoa Dolce&amp;Gabbana The One Gold Pour Homme EDP Intense \"/></a><div class=\"product-item-body\"><a class=\"product-name pro-color\" href=\"/dolce-gabbana/7781-nuoc-hoa-dolce-gabbana-the-one-gold-pour-homme-edp-intense.html\" title=\"Nước hoa Dolce&amp;Gabbana The One Gold Pour Homme EDP Intense \"><h3>Nước hoa Dolce&amp;Gabbana The One Gold Pour Homme EDP Intense </h3></a><a class=\"product-brand pro-color\" href=\"/dolce-gabbana\" title=\"Dolce &amp; Gabbana\">Dolce &amp; Gabbana</a><div class=\"product-price row\"><div><span class=\"discount-price\">4.200.000</span><span class=\"percent\">(-4%)</span></div><span>4.032.000</span></div></div></div>"
      ]
     },
     "execution_count": 147,
     "metadata": {},
     "output_type": "execute_result"
    }
   ],
   "source": [
    "product = soup.find_all('div', class_ = 'product-item')\n",
    "product[0]"
   ]
  },
  {
   "cell_type": "code",
   "execution_count": 148,
   "metadata": {},
   "outputs": [],
   "source": [
    "products = []\n",
    "class Product:\n",
    "    def __init__(self, name, brand, pricenew, sale, priceold):\n",
    "        self.name = name\n",
    "        self.brand = brand\n",
    "        self.pricenew = pricenew\n",
    "        self.sale = sale\n",
    "        self.priceold = priceold\n",
    "    def __str__(self):\n",
    "        return f\"Name: {self.name}, Brand: {self.brand}, Price old: {self.priceold}, Sale: {self.sale}, Price new: {self.pricenew}\""
   ]
  },
  {
   "cell_type": "code",
   "execution_count": 149,
   "metadata": {},
   "outputs": [],
   "source": [
    "for item in product:\n",
    "    name = item.find('h3')\n",
    "    if name:\n",
    "        name = name.text.strip()\n",
    "    else:\n",
    "        name = None\n",
    "\n",
    "    brand = item.find('a', class_ = 'product-brand pro-color')\n",
    "    if brand:\n",
    "        brand = brand.text.strip()\n",
    "    else:\n",
    "        brand = None\n",
    "    eg = item.find('div', class_ = 'product-price row')\n",
    "    pricenew = eg.find_all('span')[-1]\n",
    "    if pricenew:\n",
    "        pricenew = pricenew.text.strip()\n",
    "    else:\n",
    "        pricenew = None\n",
    "    sale = item.find('span', class_ = 'percent')\n",
    "    if sale:\n",
    "        sale = sale.text.strip()\n",
    "    else: \n",
    "        sale = None\n",
    "    priceold = item.find('span', class_ = 'discount-price')\n",
    "    if priceold:\n",
    "        priceold = priceold.text.strip()\n",
    "    else:\n",
    "        priceold = None\n",
    "    # Tạo một đối tượng Product mới và thêm vào danh sách products\n",
    "    products.append(Product(name, brand, pricenew, sale, priceold))"
   ]
  },
  {
   "cell_type": "code",
   "execution_count": 150,
   "metadata": {},
   "outputs": [
    {
     "name": "stdout",
     "output_type": "stream",
     "text": [
      "Name: Nước hoa Dolce&Gabbana The One Gold Pour Homme EDP Intense, Brand: Dolce & Gabbana, Price old: 4.200.000, Sale: (-4%), Price new: 4.032.000\n",
      "Name: Nước hoa Dolce&Gabbana K Pour Homme EDP Intense, Brand: Dolce & Gabbana, Price old: 3.780.000, Sale: (-4%), Price new: 3.628.000\n",
      "Name: Nước hoa Dolce & Gabbana Intenso Pour Homme EDP, Brand: Dolce & Gabbana, Price old: 2.850.000, Sale: (-4%), Price new: 2.736.000\n",
      "Name: Nước hoa YSL La Nuit de L’Homme EDT, Brand: Yves Saint Laurent, Price old: 4.220.000, Sale: (-4%), Price new: 4.051.000\n",
      "Name: Narciso Rodriguez Vetiver Musc For Him EDT, Brand: Narciso Rodriguez, Price old: 2.730.000, Sale: (-5%), Price new: 2.593.000\n",
      "Name: Nước hoa YSL Y Le Parfum EDP, Brand: Yves Saint Laurent, Price old: 5.460.000, Sale: (-4%), Price new: 5.241.000\n",
      "Name: Nước hoa Mcm Onyx EDP, Brand: MCM, Price old: 2.190.000, Sale: (-8%), Price new: 2.014.000\n",
      "Name: Nước hoa JPG LE MALE ELIXIR 23 EDP, Brand: Jean Paul Gaultier, Price old: 3.860.000, Sale: (-5%), Price new: 3.667.000\n",
      "Name: Nước hoa L'HOMME LE PARFUM EDP, Brand: Yves Saint Laurent, Price old: 4.810.000, Sale: (-4%), Price new: 4.617.000\n",
      "Name: Sữa tắm CALVIN KLEIN DEFY FOR MEN HAIR & BODY WASH, Brand: Calvin Klein, Price old: 500.000, Sale: (-8%), Price new: 460.000\n",
      "Name: Nước hoa Valentino Uomo Born In Roma Coral Fantasy EDT, Brand: Valentino, Price old: 2.890.000, Sale: (-5%), Price new: 2.745.000\n",
      "Name: Nước hoa Valentino Uomo Born In Roma Yellow Dream EDT, Brand: Valentino, Price old: 2.890.000, Sale: (-5%), Price new: 2.745.000\n",
      "Name: Nước hoa Valentino Uomo Born In Roma EDT, Brand: Valentino, Price old: 2.890.000, Sale: (-5%), Price new: 2.745.000\n",
      "Name: Nước hoa Valentino Uomo EDT, Brand: Valentino, Price old: 2.890.000, Sale: (-5%), Price new: 2.745.000\n",
      "Name: Nước Hoa Azzaro The Most Wanted EDP Intense, Brand: Azzaro, Price old: 2.890.000, Sale: (-8%), Price new: 2.658.000\n",
      "Name: Nước hoa Giorgio Armani Acqua Di Gio Parfum Vaporisateur Rechargeable Refillable Spray, Brand: Giorgio Armani, Price old: 1.949.000, Sale: (-5%), Price new: 1.851.000\n",
      "Name: Nước hoa Gucci Guilty Elixir De Parfum Pour Homme, Brand: Gucci, Price old: 4.280.000, Sale: (-5%), Price new: 4.066.000\n",
      "Name: Nước hoa Hugo Boss Bottled Elixir, Brand: Hugo Boss, Price old: 3.710.000, Sale: (-8%), Price new: 3.413.000\n",
      "Name: Nước hoa Calvin Klein Defy Parfum, Brand: Calvin Klein, Price old: 4.140.000, Sale: (-8%), Price new: 3.808.000\n",
      "Name: Nước hoa Hugo Boss Boss Bottled Parfum, Brand: Hugo Boss, Price old: 4.430.000, Sale: (-8%), Price new: 4.075.000\n",
      "Name: Nước hoa Montblanc Explorer Platinum EDP, Brand: Mont Blanc, Price old: 2.950.000, Sale: (-5%), Price new: 2.802.000\n",
      "Name: Nước hoa Coach Green EDT, Brand: Coach, Price old: 2.400.000, Sale: (-8%), Price new: 2.208.000\n",
      "Name: Nước Hoa Giorgio Armani Acqua Di Gio For Men EDT, Brand: Giorgio Armani, Price old: 3.049.000, Sale: (-5%), Price new: 2.896.000\n",
      "Name: Nước hoa Armani Code For Men EDT, Brand: Giorgio Armani, Price old: 2.750.000, Sale: (-5%), Price new: 2.612.000\n",
      "Name: Nước hoa Y EDP, Brand: Yves Saint Laurent, Price old: 4.590.000, Sale: (-4%), Price new: 4.406.000\n",
      "Name: Nước hoa Prada Luna Rossa EDT, Brand: Prada, Price old: 3.047.000, Sale: (-5%), Price new: 2.894.000\n",
      "Name: Nước Hoa Prada Luna Rossa Ocean EDT, Brand: Prada, Price old: 3.047.000, Sale: (-5%), Price new: 2.894.000\n",
      "Name: Nước hoa Giorgio Armani Acqua Di Gio EDP, Brand: Giorgio Armani, Price old: 3.949.000, Sale: (-5%), Price new: 3.751.000\n",
      "Name: Nước hoa Dolce&Gabbana Light Blue Summer Vibes Pour Homme EDT, Brand: Dolce & Gabbana, Price old: 3.550.000, Sale: (-4%), Price new: 3.408.000\n",
      "Name: Nước hoa Scandal Pour Homme Le Parfum EDP, Brand: Jean Paul Gaultier, Price old: 3.720.000, Sale: (-5%), Price new: 3.534.000\n",
      "Name: Nước hoa Versace Eros Parfum, Brand: Versace, Price old: 3.388.000, Sale: (-8%), Price new: 3.116.000\n",
      "Name: Nước hoa Calvin Klein Defy EDP, Brand: Calvin Klein, Price old: 3.010.000, Sale: (-8%), Price new: 2.769.000\n",
      "Name: Nước hoa Burberry Hero EDP, Brand: Burberry, Price old: 4.870.000, Sale: (-5%), Price new: 4.626.000\n",
      "Name: Nước hoa Burberry Hero EDP, Brand: Burberry, Price old: 475.000, Sale: (-5%), Price new: 451.000\n",
      "Name: Nước hoa Gucci Guilty Pour Homme Parfum, Brand: Gucci, Price old: 5.000.000, Sale: (-5%), Price new: 4.750.000\n",
      "Name: Nước hoa Paco Rabanne Fame EDP, Brand: Paco Rabanne, Price old: 4.050.000, Sale: (-5%), Price new: 3.847.000\n"
     ]
    }
   ],
   "source": [
    "for item in products:\n",
    "    print(str(item))"
   ]
  },
  {
   "cell_type": "code",
   "execution_count": 151,
   "metadata": {},
   "outputs": [
    {
     "data": {
      "text/plain": [
       "36"
      ]
     },
     "execution_count": 151,
     "metadata": {},
     "output_type": "execute_result"
    }
   ],
   "source": [
    "len(products)"
   ]
  },
  {
   "cell_type": "code",
   "execution_count": 152,
   "metadata": {},
   "outputs": [],
   "source": [
    "with open( 'thegioinuochoanutest.html', 'r', encoding = 'utf-8') as file:\n",
    "    html_content = file.read()"
   ]
  },
  {
   "cell_type": "code",
   "execution_count": 153,
   "metadata": {},
   "outputs": [],
   "source": [
    "soup = BeautifulSoup(html_content, 'html.parser')"
   ]
  },
  {
   "cell_type": "code",
   "execution_count": 154,
   "metadata": {},
   "outputs": [
    {
     "data": {
      "text/plain": [
       "<title>Nước hoa Nữ - Thế Giới Nước Hoa</title>"
      ]
     },
     "execution_count": 154,
     "metadata": {},
     "output_type": "execute_result"
    }
   ],
   "source": [
    "soup.title"
   ]
  },
  {
   "cell_type": "code",
   "execution_count": 155,
   "metadata": {},
   "outputs": [
    {
     "data": {
      "text/plain": [
       "<div class=\"product-item\"><div class=\"prominent prominent-sale\"></div><a class=\"product-item-thumb\" href=\"/yves-saint-laurent/7798-nuoc-hoa-yves-saint-laurent-libre-l-absolu-platin-edp.html\"><img class=\"lazy img\" data-original=\"https://www.thegioinuochoa.com.vn/uploads/item_product/thumb1200x200/202405/20240506093004_737526.png\" src=\"data:image/gif;base64,R0lGODlhAQABAJECAAAAMwAAAP///wAAACH5BAEAAAIALAAAAAABAAEAAAICVAEAOw==\" title=\"Nước hoa Yves Saint Laurent Libre L'Absolu Platin EDP\"/></a><div class=\"product-item-body\"><a class=\"product-name pro-color\" href=\"/yves-saint-laurent/7798-nuoc-hoa-yves-saint-laurent-libre-l-absolu-platin-edp.html\" title=\"Nước hoa Yves Saint Laurent Libre L'Absolu Platin EDP\"><h3>Nước hoa Yves Saint Laurent Libre L'Absolu Platin EDP</h3></a><a class=\"product-brand pro-color\" href=\"/yves-saint-laurent\" title=\"Yves Saint Laurent\">Yves Saint Laurent</a><div class=\"product-price row\"><div><span class=\"discount-price\">5.520.000</span><span class=\"percent\">(-4%)</span></div><span>5.299.000</span></div></div></div>"
      ]
     },
     "execution_count": 155,
     "metadata": {},
     "output_type": "execute_result"
    }
   ],
   "source": [
    "product = soup.find_all('div', class_ = 'product-item')\n",
    "product[0]"
   ]
  },
  {
   "cell_type": "code",
   "execution_count": 156,
   "metadata": {},
   "outputs": [],
   "source": [
    "for item in product:\n",
    "    name = item.find('h3')\n",
    "    if name:\n",
    "        name = name.text.strip()\n",
    "    else:\n",
    "        name = None\n",
    "\n",
    "    brand = item.find('a', class_ = 'product-brand pro-color')\n",
    "    if brand:\n",
    "        brand = brand.text.strip()\n",
    "    else:\n",
    "        brand = None\n",
    "    eg = item.find('div', class_ = 'product-price row')\n",
    "    pricenew = eg.find_all('span')[-1]\n",
    "    if pricenew:\n",
    "        pricenew = pricenew.text.strip()\n",
    "    else:\n",
    "        pricenew = None\n",
    "    sale = item.find('span', class_ = 'percent')\n",
    "    if sale:\n",
    "        sale = sale.text.strip()\n",
    "    else: \n",
    "        sale = None\n",
    "    priceold = item.find('span', class_ = 'discount-price')\n",
    "    if priceold:\n",
    "        priceold = priceold.text.strip()\n",
    "    else:\n",
    "        priceold = None\n",
    "    # Tạo một đối tượng Product mới và thêm vào danh sách products\n",
    "    products.append(Product(name, brand, pricenew, sale, priceold))"
   ]
  },
  {
   "cell_type": "code",
   "execution_count": 157,
   "metadata": {},
   "outputs": [
    {
     "name": "stdout",
     "output_type": "stream",
     "text": [
      "Name: Nước hoa Dolce&Gabbana The One Gold Pour Homme EDP Intense, Brand: Dolce & Gabbana, Price old: 4.200.000, Sale: (-4%), Price new: 4.032.000\n",
      "Name: Nước hoa Dolce&Gabbana K Pour Homme EDP Intense, Brand: Dolce & Gabbana, Price old: 3.780.000, Sale: (-4%), Price new: 3.628.000\n",
      "Name: Nước hoa Dolce & Gabbana Intenso Pour Homme EDP, Brand: Dolce & Gabbana, Price old: 2.850.000, Sale: (-4%), Price new: 2.736.000\n",
      "Name: Nước hoa YSL La Nuit de L’Homme EDT, Brand: Yves Saint Laurent, Price old: 4.220.000, Sale: (-4%), Price new: 4.051.000\n",
      "Name: Narciso Rodriguez Vetiver Musc For Him EDT, Brand: Narciso Rodriguez, Price old: 2.730.000, Sale: (-5%), Price new: 2.593.000\n",
      "Name: Nước hoa YSL Y Le Parfum EDP, Brand: Yves Saint Laurent, Price old: 5.460.000, Sale: (-4%), Price new: 5.241.000\n",
      "Name: Nước hoa Mcm Onyx EDP, Brand: MCM, Price old: 2.190.000, Sale: (-8%), Price new: 2.014.000\n",
      "Name: Nước hoa JPG LE MALE ELIXIR 23 EDP, Brand: Jean Paul Gaultier, Price old: 3.860.000, Sale: (-5%), Price new: 3.667.000\n",
      "Name: Nước hoa L'HOMME LE PARFUM EDP, Brand: Yves Saint Laurent, Price old: 4.810.000, Sale: (-4%), Price new: 4.617.000\n",
      "Name: Sữa tắm CALVIN KLEIN DEFY FOR MEN HAIR & BODY WASH, Brand: Calvin Klein, Price old: 500.000, Sale: (-8%), Price new: 460.000\n",
      "Name: Nước hoa Valentino Uomo Born In Roma Coral Fantasy EDT, Brand: Valentino, Price old: 2.890.000, Sale: (-5%), Price new: 2.745.000\n",
      "Name: Nước hoa Valentino Uomo Born In Roma Yellow Dream EDT, Brand: Valentino, Price old: 2.890.000, Sale: (-5%), Price new: 2.745.000\n",
      "Name: Nước hoa Valentino Uomo Born In Roma EDT, Brand: Valentino, Price old: 2.890.000, Sale: (-5%), Price new: 2.745.000\n",
      "Name: Nước hoa Valentino Uomo EDT, Brand: Valentino, Price old: 2.890.000, Sale: (-5%), Price new: 2.745.000\n",
      "Name: Nước Hoa Azzaro The Most Wanted EDP Intense, Brand: Azzaro, Price old: 2.890.000, Sale: (-8%), Price new: 2.658.000\n",
      "Name: Nước hoa Giorgio Armani Acqua Di Gio Parfum Vaporisateur Rechargeable Refillable Spray, Brand: Giorgio Armani, Price old: 1.949.000, Sale: (-5%), Price new: 1.851.000\n",
      "Name: Nước hoa Gucci Guilty Elixir De Parfum Pour Homme, Brand: Gucci, Price old: 4.280.000, Sale: (-5%), Price new: 4.066.000\n",
      "Name: Nước hoa Hugo Boss Bottled Elixir, Brand: Hugo Boss, Price old: 3.710.000, Sale: (-8%), Price new: 3.413.000\n",
      "Name: Nước hoa Calvin Klein Defy Parfum, Brand: Calvin Klein, Price old: 4.140.000, Sale: (-8%), Price new: 3.808.000\n",
      "Name: Nước hoa Hugo Boss Boss Bottled Parfum, Brand: Hugo Boss, Price old: 4.430.000, Sale: (-8%), Price new: 4.075.000\n",
      "Name: Nước hoa Montblanc Explorer Platinum EDP, Brand: Mont Blanc, Price old: 2.950.000, Sale: (-5%), Price new: 2.802.000\n",
      "Name: Nước hoa Coach Green EDT, Brand: Coach, Price old: 2.400.000, Sale: (-8%), Price new: 2.208.000\n",
      "Name: Nước Hoa Giorgio Armani Acqua Di Gio For Men EDT, Brand: Giorgio Armani, Price old: 3.049.000, Sale: (-5%), Price new: 2.896.000\n",
      "Name: Nước hoa Armani Code For Men EDT, Brand: Giorgio Armani, Price old: 2.750.000, Sale: (-5%), Price new: 2.612.000\n",
      "Name: Nước hoa Y EDP, Brand: Yves Saint Laurent, Price old: 4.590.000, Sale: (-4%), Price new: 4.406.000\n",
      "Name: Nước hoa Prada Luna Rossa EDT, Brand: Prada, Price old: 3.047.000, Sale: (-5%), Price new: 2.894.000\n",
      "Name: Nước Hoa Prada Luna Rossa Ocean EDT, Brand: Prada, Price old: 3.047.000, Sale: (-5%), Price new: 2.894.000\n",
      "Name: Nước hoa Giorgio Armani Acqua Di Gio EDP, Brand: Giorgio Armani, Price old: 3.949.000, Sale: (-5%), Price new: 3.751.000\n",
      "Name: Nước hoa Dolce&Gabbana Light Blue Summer Vibes Pour Homme EDT, Brand: Dolce & Gabbana, Price old: 3.550.000, Sale: (-4%), Price new: 3.408.000\n",
      "Name: Nước hoa Scandal Pour Homme Le Parfum EDP, Brand: Jean Paul Gaultier, Price old: 3.720.000, Sale: (-5%), Price new: 3.534.000\n",
      "Name: Nước hoa Versace Eros Parfum, Brand: Versace, Price old: 3.388.000, Sale: (-8%), Price new: 3.116.000\n",
      "Name: Nước hoa Calvin Klein Defy EDP, Brand: Calvin Klein, Price old: 3.010.000, Sale: (-8%), Price new: 2.769.000\n",
      "Name: Nước hoa Burberry Hero EDP, Brand: Burberry, Price old: 4.870.000, Sale: (-5%), Price new: 4.626.000\n",
      "Name: Nước hoa Burberry Hero EDP, Brand: Burberry, Price old: 475.000, Sale: (-5%), Price new: 451.000\n",
      "Name: Nước hoa Gucci Guilty Pour Homme Parfum, Brand: Gucci, Price old: 5.000.000, Sale: (-5%), Price new: 4.750.000\n",
      "Name: Nước hoa Paco Rabanne Fame EDP, Brand: Paco Rabanne, Price old: 4.050.000, Sale: (-5%), Price new: 3.847.000\n",
      "Name: Nước hoa Yves Saint Laurent Libre L'Absolu Platin EDP, Brand: Yves Saint Laurent, Price old: 5.520.000, Sale: (-4%), Price new: 5.299.000\n",
      "Name: Nước hoa Calvin Klein My Euphoria EDP, Brand: Calvin Klein, Price old: 3.560.000, Sale: (-8%), Price new: 3.275.000\n",
      "Name: Nước hoa Paco Rabanne Fame Intense EDP, Brand: Paco Rabanne, Price old: 4.800.000, Sale: (-5%), Price new: 4.560.000\n",
      "Name: Nước hoa Dolce & Gabbana The Only One EDP Intense, Brand: Dolce & Gabbana, Price old: 5.250.000, Sale: (-4%), Price new: 5.040.000\n",
      "Name: Nước hoa Dolce&Gabbana The One Gold EDP Intense, Brand: Dolce & Gabbana, Price old: 4.850.000, Sale: (-4%), Price new: 4.656.000\n",
      "Name: Nước hoa Dolce & Gabbana Q EDP Intense, Brand: Dolce & Gabbana, Price old: 5.100.000, Sale: (-4%), Price new: 4.896.000\n",
      "Name: Nước hoa L'Eau d'IsseySolar Violet EDTI, Brand: Issey Miyake, Price old: 3.240.000, Sale: (-5%), Price new: 3.078.000\n",
      "Name: Nước hoa L'Eau d'Issey pour Homme Solar Lavender EDTI, Brand: Issey Miyake, Price old: 2.060.000, Sale: (-5%), Price new: 1.957.000\n",
      "Name: Giftset YSL Black Opium EDP 4PCS, Brand: Yves Saint Laurent, Price old: 3.870.000, Sale: (-4%), Price new: 3.715.000\n",
      "Name: Giftset YSL Black Opium EDP 3PCS, Brand: Yves Saint Laurent, Price old: 4.060.000, Sale: (-4%), Price new: 3.897.000\n",
      "Name: Nước hoa Carolina Herrera Good Girl EDP, Brand: Carolina Herrera, Price old: 2.010.000, Sale: (-5%), Price new: 1.909.000\n",
      "Name: Giftset YSL Libre EDP 3PCS, Brand: Yves Saint Laurent, Price old: 3.870.000, Sale: (-4%), Price new: 3.715.000\n",
      "Name: Giftset YSL Libre EDP 3PCS, Brand: Yves Saint Laurent, Price old: 5.050.000, Sale: (-4%), Price new: 4.848.000\n",
      "Name: Issey Miyake Ladies A Drop D'issey Essentielle EDP, Brand: Issey Miyake, Price old: 3.280.000, Sale: (-5%), Price new: 3.116.000\n",
      "Name: Narciso Rodriguez Musc Nude For Her EDP, Brand: Narciso Rodriguez, Price old: 3.850.000, Sale: (-5%), Price new: 3.657.000\n",
      "Name: Nước hoa Chloé Signature Lumineuse Roses EDP, Brand: Chloe, Price old: 5.380.000, Sale: (-8%), Price new: 4.949.000\n",
      "Name: Nước hoa Burberry Her Petals Limited Edition, Brand: Burberry, Price old: 5.050.000, Sale: (-5%), Price new: 4.797.000\n",
      "Name: Giftset Lancôme Miracle EDP 3PCS, Brand: Lancôme, Price old: 2.100.000, Sale: (-4%), Price new: 2.016.000\n",
      "Name: Giftset Lancôme La Nuit Tresor 3PCS, Brand: Lancôme, Price old: 2.800.000, Sale: (-4%), Price new: 2.688.000\n",
      "Name: Nước hoa Valentino Donna Born In Roma Intense EDP, Brand: Valentino, Price old: 4.730.000, Sale: (-5%), Price new: 4.493.000\n",
      "Name: NƯỚC HOA LANCÔME LA VIE EST BELLE IRIS ABSOLU EDP, Brand: Lancôme, Price old: 4.900.000, Sale: (-4%), Price new: 4.704.000\n",
      "Name: Nước hoa LIBRE EDT, Brand: Yves Saint Laurent, Price old: 4.740.000, Sale: (-4%), Price new: 4.550.000\n",
      "Name: Nước hoa Black Opium EDP, Brand: Yves Saint Laurent, Price old: 5.050.000, Sale: (-4%), Price new: 4.848.000\n",
      "Name: Nước hoa Coach Love EDP, Brand: Coach, Price old: 2.900.000, Sale: (-8%), Price new: 2.668.000\n",
      "Name: Nước hoa JPG FEMME DIVINE 23 EDP, Brand: Jean Paul Gaultier, Price old: 2.230.000, Sale: (-5%), Price new: 2.118.000\n",
      "Name: Nước hoa Giorgio Armani My Way Parfum EDP, Brand: Giorgio Armani, Price old: 3.652.000, Sale: (-5%), Price new: 3.469.000\n",
      "Name: Nước hoa Giorgio Armani Sì Passione Eclat EDP, Brand: Giorgio Armani, Price old: 4.100.000, Sale: (-5%), Price new: 3.895.000\n",
      "Name: Nước hoa Giorgio Armani Sì Passione Intense EDP, Brand: Giorgio Armani, Price old: 3.590.000, Sale: (-5%), Price new: 3.410.000\n",
      "Name: Nước hoa Giorgio Armani Si EDP, Brand: Giorgio Armani, Price old: 4.100.000, Sale: (-5%), Price new: 3.895.000\n",
      "Name: Nước hoa Mon Paris Intensement EDP, Brand: Yves Saint Laurent, Price old: 5.240.000, Sale: (-4%), Price new: 5.030.000\n",
      "Name: NƯỚC HOA YSL LIBRE EDP - HOL 2023 OS, Brand: Yves Saint Laurent, Price old: 3.870.000, Sale: (-4%), Price new: 3.715.000\n",
      "Name: Nước hoa Valentino Valentina EDP, Brand: Valentino, Price old: 3.443.000, Sale: (-5%), Price new: 3.270.000\n",
      "Name: Nước hoa Valentino Donna Born In Roma Coral Fantasy EDP, Brand: Valentino, Price old: 4.349.000, Sale: (-5%), Price new: 4.131.000\n",
      "Name: Nước hoa Valentino Donna Born In Roma Yellow Dream EDP, Brand: Valentino, Price old: 4.349.000, Sale: (-5%), Price new: 4.131.000\n",
      "Name: Nước hoa Valentino Donna Born In Roma EDP, Brand: Valentino, Price old: 4.349.000, Sale: (-5%), Price new: 4.131.000\n",
      "Name: Nước hoa Valentino Donna EDP, Brand: Valentino, Price old: 4.350.000, Sale: (-5%), Price new: 4.132.000\n"
     ]
    }
   ],
   "source": [
    "for item in products:\n",
    "    print(str(item))"
   ]
  },
  {
   "cell_type": "code",
   "execution_count": 158,
   "metadata": {},
   "outputs": [
    {
     "data": {
      "text/plain": [
       "72"
      ]
     },
     "execution_count": 158,
     "metadata": {},
     "output_type": "execute_result"
    }
   ],
   "source": [
    "len(products)"
   ]
  },
  {
   "cell_type": "code",
   "execution_count": 159,
   "metadata": {},
   "outputs": [],
   "source": [
    "with open('productstest.txt', 'w', encoding = 'utf-8') as file:\n",
    "    for item in products:\n",
    "        file.write(str(item) + '\\n')"
   ]
  },
  {
   "cell_type": "code",
   "execution_count": 160,
   "metadata": {},
   "outputs": [],
   "source": [
    "'''with open('products.txt', 'a', encoding = 'utf-8') as file:\n",
    "    for item in products:\n",
    "        file.write(str(item) + '\\n')'''"
   ]
  }
 ],
 "metadata": {
  "kernelspec": {
   "display_name": "Python 3",
   "language": "python",
   "name": "python3"
  },
  "language_info": {
   "codemirror_mode": {
    "name": "ipython",
    "version": 3
   },
   "file_extension": ".py",
   "mimetype": "text/x-python",
   "name": "python",
   "nbconvert_exporter": "python",
   "pygments_lexer": "ipython3",
   "version": "3.12.0"
  }
 },
 "nbformat": 4,
 "nbformat_minor": 2
}
