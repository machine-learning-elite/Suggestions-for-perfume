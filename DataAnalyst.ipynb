{
 "cells": [
  {
   "cell_type": "code",
   "execution_count": 82,
   "metadata": {},
   "outputs": [
    {
     "name": "stdout",
     "output_type": "stream",
     "text": [
      "Requirement already satisfied: beautifulsoup4 in /Library/Frameworks/Python.framework/Versions/3.12/lib/python3.12/site-packages (4.12.3)\n",
      "Requirement already satisfied: soupsieve>1.2 in /Library/Frameworks/Python.framework/Versions/3.12/lib/python3.12/site-packages (from beautifulsoup4) (2.5)\n",
      "\n",
      "\u001b[1m[\u001b[0m\u001b[34;49mnotice\u001b[0m\u001b[1;39;49m]\u001b[0m\u001b[39;49m A new release of pip is available: \u001b[0m\u001b[31;49m23.2.1\u001b[0m\u001b[39;49m -> \u001b[0m\u001b[32;49m24.0\u001b[0m\n",
      "\u001b[1m[\u001b[0m\u001b[34;49mnotice\u001b[0m\u001b[1;39;49m]\u001b[0m\u001b[39;49m To update, run: \u001b[0m\u001b[32;49mpip3 install --upgrade pip\u001b[0m\n",
      "Note: you may need to restart the kernel to use updated packages.\n"
     ]
    }
   ],
   "source": [
    "pip install beautifulsoup4"
   ]
  },
  {
   "cell_type": "code",
   "execution_count": 83,
   "metadata": {},
   "outputs": [],
   "source": [
    "from bs4 import BeautifulSoup"
   ]
  },
  {
   "cell_type": "code",
   "execution_count": 84,
   "metadata": {},
   "outputs": [],
   "source": [
    "with open( 'thegioinuochoanamtest.html', 'r', encoding = 'utf-8') as file:\n",
    "    html_content = file.read()"
   ]
  },
  {
   "cell_type": "code",
   "execution_count": 85,
   "metadata": {},
   "outputs": [],
   "source": [
    "soup = BeautifulSoup(html_content, 'html.parser')"
   ]
  },
  {
   "cell_type": "code",
   "execution_count": 86,
   "metadata": {},
   "outputs": [
    {
     "data": {
      "text/plain": [
       "<title>Nước hoa Nam - Thế Giới Nước Hoa</title>"
      ]
     },
     "execution_count": 86,
     "metadata": {},
     "output_type": "execute_result"
    }
   ],
   "source": [
    "soup.title"
   ]
  },
  {
   "cell_type": "code",
   "execution_count": 87,
   "metadata": {},
   "outputs": [
    {
     "data": {
      "text/plain": [
       "<div class=\"product-item\"><div class=\"prominent prominent-sale\"></div><a class=\"product-item-thumb\" href=\"/dolce-gabbana/7781-nuoc-hoa-dolce-gabbana-the-one-gold-pour-homme-edp-intense.html\"><img class=\"lazy img\" data-original=\"https://www.thegioinuochoa.com.vn/uploads/item_product/thumb1200x200/202404/20240423110236_135322.png\" src=\"data:image/gif;base64,R0lGODlhAQABAJECAAAAMwAAAP///wAAACH5BAEAAAIALAAAAAABAAEAAAICVAEAOw==\" title=\"Nước hoa Dolce&amp;Gabbana The One Gold Pour Homme EDP Intense \"/></a><div class=\"product-item-body\"><a class=\"product-name pro-color\" href=\"/dolce-gabbana/7781-nuoc-hoa-dolce-gabbana-the-one-gold-pour-homme-edp-intense.html\" title=\"Nước hoa Dolce&amp;Gabbana The One Gold Pour Homme EDP Intense \"><h3>Nước hoa Dolce&amp;Gabbana The One Gold Pour Homme EDP Intense </h3></a><a class=\"product-brand pro-color\" href=\"/dolce-gabbana\" title=\"Dolce &amp; Gabbana\">Dolce &amp; Gabbana</a><div class=\"product-price row\"><div><span class=\"discount-price\">4.200.000</span><span class=\"percent\">(-4%)</span></div><span>4.032.000</span></div></div></div>"
      ]
     },
     "execution_count": 87,
     "metadata": {},
     "output_type": "execute_result"
    }
   ],
   "source": [
    "product = soup.find_all('div', class_ = 'product-item')\n",
    "product[0]"
   ]
  },
  {
   "cell_type": "code",
   "execution_count": 88,
   "metadata": {},
   "outputs": [],
   "source": [
    "products = []\n",
    "class Product:\n",
    "    def __init__(self, name, brand, price):\n",
    "        self.name = name\n",
    "        self.brand = brand\n",
    "        self.price = price"
   ]
  },
  {
   "cell_type": "code",
   "execution_count": 89,
   "metadata": {},
   "outputs": [],
   "source": [
    "for item in product:\n",
    "    # Trích xuất tên sản phẩm từ thẻ <h3>\n",
    "    name = item.find('h3').text.strip()\n",
    "    if not(name):\n",
    "        name = None\n",
    "\n",
    "    # Trích xuất thương hiệu từ thẻ <a> có class là \"product-brand\"\n",
    "    brand = item.find('a', class_='product-brand pro-color').text.strip()\n",
    "    if not(brand):\n",
    "        brand = None\n",
    "    # Trích xuất giá từ thẻ <span> có class là \"discount-price\"\n",
    "    price = item.find('span', class_='discount-price').number\n",
    "    if not(price):\n",
    "        price = None\n",
    "    # Tạo một đối tượng Product mới và thêm vào danh sách products\n",
    "    products.append(Product(name, brand, price))"
   ]
  },
  {
   "cell_type": "code",
   "execution_count": 90,
   "metadata": {},
   "outputs": [
    {
     "name": "stdout",
     "output_type": "stream",
     "text": [
      "Nước hoa Dolce&Gabbana The One Gold Pour Homme EDP Intense Dolce & Gabbana None\n",
      "Nước hoa Dolce&Gabbana K Pour Homme EDP Intense Dolce & Gabbana None\n",
      "Nước hoa Dolce & Gabbana Intenso Pour Homme EDP Dolce & Gabbana None\n",
      "Nước hoa YSL La Nuit de L’Homme EDT Yves Saint Laurent None\n",
      "Narciso Rodriguez Vetiver Musc For Him EDT Narciso Rodriguez None\n",
      "Nước hoa YSL Y Le Parfum EDP Yves Saint Laurent None\n",
      "Nước hoa Mcm Onyx EDP MCM None\n",
      "Nước hoa JPG LE MALE ELIXIR 23 EDP Jean Paul Gaultier None\n",
      "Nước hoa L'HOMME LE PARFUM EDP Yves Saint Laurent None\n",
      "Sữa tắm CALVIN KLEIN DEFY FOR MEN HAIR & BODY WASH Calvin Klein None\n",
      "Nước hoa Valentino Uomo Born In Roma Coral Fantasy EDT Valentino None\n",
      "Nước hoa Valentino Uomo Born In Roma Yellow Dream EDT Valentino None\n",
      "Nước hoa Valentino Uomo Born In Roma EDT Valentino None\n",
      "Nước hoa Valentino Uomo EDT Valentino None\n",
      "Nước Hoa Azzaro The Most Wanted EDP Intense Azzaro None\n",
      "Nước hoa Giorgio Armani Acqua Di Gio Parfum Vaporisateur Rechargeable Refillable Spray Giorgio Armani None\n",
      "Nước hoa Gucci Guilty Elixir De Parfum Pour Homme Gucci None\n",
      "Nước hoa Hugo Boss Bottled Elixir Hugo Boss None\n",
      "Nước hoa Calvin Klein Defy Parfum Calvin Klein None\n",
      "Nước hoa Hugo Boss Boss Bottled Parfum Hugo Boss None\n",
      "Nước hoa Montblanc Explorer Platinum EDP Mont Blanc None\n",
      "Nước hoa Coach Green EDT Coach None\n",
      "Nước Hoa Giorgio Armani Acqua Di Gio For Men EDT Giorgio Armani None\n",
      "Nước hoa Armani Code For Men EDT Giorgio Armani None\n",
      "Nước hoa Y EDP Yves Saint Laurent None\n",
      "Nước hoa Prada Luna Rossa EDT Prada None\n",
      "Nước Hoa Prada Luna Rossa Ocean EDT Prada None\n",
      "Nước hoa Giorgio Armani Acqua Di Gio EDP Giorgio Armani None\n",
      "Nước hoa Dolce&Gabbana Light Blue Summer Vibes Pour Homme EDT Dolce & Gabbana None\n",
      "Nước hoa Scandal Pour Homme Le Parfum EDP Jean Paul Gaultier None\n",
      "Nước hoa Dolce&Gabbana K EDT Dolce & Gabbana None\n",
      "Nước hoa Versace Eros Parfum Versace None\n",
      "Nước hoa Calvin Klein Defy EDP Calvin Klein None\n",
      "Nước hoa Jean Paul Gaultier Le Male EDT Xmas Collector 125ml Jean Paul Gaultier None\n",
      "Nước hoa Mercedes-Benz Man Bright EDP Mercedes Benz None\n",
      "Nước hoa Burberry Hero EDP Burberry None\n"
     ]
    }
   ],
   "source": [
    "for item in products:\n",
    "    print(item.name, item.brand, item.price)"
   ]
  }
 ],
 "metadata": {
  "kernelspec": {
   "display_name": "Python 3",
   "language": "python",
   "name": "python3"
  },
  "language_info": {
   "codemirror_mode": {
    "name": "ipython",
    "version": 3
   },
   "file_extension": ".py",
   "mimetype": "text/x-python",
   "name": "python",
   "nbconvert_exporter": "python",
   "pygments_lexer": "ipython3",
   "version": "3.12.0"
  }
 },
 "nbformat": 4,
 "nbformat_minor": 2
}
