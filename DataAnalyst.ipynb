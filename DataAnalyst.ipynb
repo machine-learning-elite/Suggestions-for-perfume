{
 "cells": [
  {
   "cell_type": "code",
   "execution_count": 115,
   "metadata": {},
   "outputs": [
    {
     "name": "stdout",
     "output_type": "stream",
     "text": [
      "Requirement already satisfied: beautifulsoup4 in /Library/Frameworks/Python.framework/Versions/3.12/lib/python3.12/site-packages (4.12.3)\n",
      "Requirement already satisfied: soupsieve>1.2 in /Library/Frameworks/Python.framework/Versions/3.12/lib/python3.12/site-packages (from beautifulsoup4) (2.5)\n",
      "\n",
      "\u001b[1m[\u001b[0m\u001b[34;49mnotice\u001b[0m\u001b[1;39;49m]\u001b[0m\u001b[39;49m A new release of pip is available: \u001b[0m\u001b[31;49m23.2.1\u001b[0m\u001b[39;49m -> \u001b[0m\u001b[32;49m24.0\u001b[0m\n",
      "\u001b[1m[\u001b[0m\u001b[34;49mnotice\u001b[0m\u001b[1;39;49m]\u001b[0m\u001b[39;49m To update, run: \u001b[0m\u001b[32;49mpip3 install --upgrade pip\u001b[0m\n",
      "Note: you may need to restart the kernel to use updated packages.\n"
     ]
    }
   ],
   "source": [
    "pip install beautifulsoup4"
   ]
  },
  {
   "cell_type": "code",
   "execution_count": 116,
   "metadata": {},
   "outputs": [],
   "source": [
    "from bs4 import BeautifulSoup"
   ]
  },
  {
   "cell_type": "code",
   "execution_count": 117,
   "metadata": {},
   "outputs": [],
   "source": [
    "with open( 'thegioinuochoanamtest.html', 'r', encoding = 'utf-8') as file:\n",
    "    html_content = file.read()"
   ]
  },
  {
   "cell_type": "code",
   "execution_count": 118,
   "metadata": {},
   "outputs": [],
   "source": [
    "soup = BeautifulSoup(html_content, 'html.parser')"
   ]
  },
  {
   "cell_type": "code",
   "execution_count": 119,
   "metadata": {},
   "outputs": [
    {
     "data": {
      "text/plain": [
       "<title>Nước hoa Nam - Thế Giới Nước Hoa</title>"
      ]
     },
     "execution_count": 119,
     "metadata": {},
     "output_type": "execute_result"
    }
   ],
   "source": [
    "soup.title"
   ]
  },
  {
   "cell_type": "code",
   "execution_count": 120,
   "metadata": {},
   "outputs": [
    {
     "data": {
      "text/plain": [
       "<div class=\"product-item\"><div class=\"prominent prominent-sale\"></div><a class=\"product-item-thumb\" href=\"/dolce-gabbana/7781-nuoc-hoa-dolce-gabbana-the-one-gold-pour-homme-edp-intense.html\"><img class=\"lazy img\" data-original=\"https://www.thegioinuochoa.com.vn/uploads/item_product/thumb1200x200/202404/20240423110236_135322.png\" src=\"data:image/gif;base64,R0lGODlhAQABAJECAAAAMwAAAP///wAAACH5BAEAAAIALAAAAAABAAEAAAICVAEAOw==\" title=\"Nước hoa Dolce&amp;Gabbana The One Gold Pour Homme EDP Intense \"/></a><div class=\"product-item-body\"><a class=\"product-name pro-color\" href=\"/dolce-gabbana/7781-nuoc-hoa-dolce-gabbana-the-one-gold-pour-homme-edp-intense.html\" title=\"Nước hoa Dolce&amp;Gabbana The One Gold Pour Homme EDP Intense \"><h3>Nước hoa Dolce&amp;Gabbana The One Gold Pour Homme EDP Intense </h3></a><a class=\"product-brand pro-color\" href=\"/dolce-gabbana\" title=\"Dolce &amp; Gabbana\">Dolce &amp; Gabbana</a><div class=\"product-price row\"><div><span class=\"discount-price\">4.200.000</span><span class=\"percent\">(-4%)</span></div><span>4.032.000</span></div></div></div>"
      ]
     },
     "execution_count": 120,
     "metadata": {},
     "output_type": "execute_result"
    }
   ],
   "source": [
    "product = soup.find_all('div', class_ = 'product-item')\n",
    "product[0]"
   ]
  },
  {
   "cell_type": "code",
   "execution_count": 121,
   "metadata": {},
   "outputs": [],
   "source": [
    "products = []\n",
    "class Product:\n",
    "    def __init__(self, name, brand, price):\n",
    "        self.name = name\n",
    "        self.brand = brand\n",
    "        self.price = price"
   ]
  },
  {
   "cell_type": "code",
   "execution_count": 122,
   "metadata": {},
   "outputs": [],
   "source": [
    "for item in product:\n",
    "    name = item.find('h3').text.strip()\n",
    "    if name:\n",
    "        pass\n",
    "    else:\n",
    "        name = None\n",
    "\n",
    "    brand = item.find('a', class_='product-brand pro-color').text.strip()\n",
    "    if brand:\n",
    "        pass\n",
    "    else:\n",
    "        brand = None\n",
    "\n",
    "    price = item.find('span', class_='discount-price').text\n",
    "    if price:\n",
    "        pass\n",
    "    else:\n",
    "        price = None\n",
    "    # Tạo một đối tượng Product mới và thêm vào danh sách products\n",
    "    products.append(Product(name, brand, price))"
   ]
  },
  {
   "cell_type": "code",
   "execution_count": 123,
   "metadata": {},
   "outputs": [
    {
     "name": "stdout",
     "output_type": "stream",
     "text": [
      "Nước hoa Dolce&Gabbana The One Gold Pour Homme EDP Intense Dolce & Gabbana 4.200.000\n",
      "Nước hoa Dolce&Gabbana K Pour Homme EDP Intense Dolce & Gabbana 3.780.000\n",
      "Nước hoa Dolce & Gabbana Intenso Pour Homme EDP Dolce & Gabbana 2.850.000\n",
      "Nước hoa YSL La Nuit de L’Homme EDT Yves Saint Laurent 4.220.000\n",
      "Narciso Rodriguez Vetiver Musc For Him EDT Narciso Rodriguez 2.730.000\n",
      "Nước hoa YSL Y Le Parfum EDP Yves Saint Laurent 5.460.000\n",
      "Nước hoa Mcm Onyx EDP MCM 2.190.000\n",
      "Nước hoa JPG LE MALE ELIXIR 23 EDP Jean Paul Gaultier 3.860.000\n",
      "Nước hoa L'HOMME LE PARFUM EDP Yves Saint Laurent 4.810.000\n",
      "Sữa tắm CALVIN KLEIN DEFY FOR MEN HAIR & BODY WASH Calvin Klein 500.000\n",
      "Nước hoa Valentino Uomo Born In Roma Coral Fantasy EDT Valentino 2.255.000\n",
      "Nước hoa Valentino Uomo Born In Roma Yellow Dream EDT Valentino 2.890.000\n",
      "Nước hoa Valentino Uomo Born In Roma EDT Valentino 2.890.000\n",
      "Nước hoa Valentino Uomo EDT Valentino 2.890.000\n",
      "Nước Hoa Azzaro The Most Wanted EDP Intense Azzaro 2.890.000\n",
      "Nước hoa Giorgio Armani Acqua Di Gio Parfum Vaporisateur Rechargeable Refillable Spray Giorgio Armani 1.949.000\n",
      "Nước hoa Gucci Guilty Elixir De Parfum Pour Homme Gucci 4.280.000\n",
      "Nước hoa Hugo Boss Bottled Elixir Hugo Boss 3.710.000\n",
      "Nước hoa Calvin Klein Defy Parfum Calvin Klein 4.140.000\n",
      "Nước hoa Hugo Boss Boss Bottled Parfum Hugo Boss 4.430.000\n",
      "Nước hoa Montblanc Explorer Platinum EDP Mont Blanc 2.950.000\n",
      "Nước hoa Coach Green EDT Coach 1.850.000\n",
      "Nước Hoa Giorgio Armani Acqua Di Gio For Men EDT Giorgio Armani 3.049.000\n",
      "Nước hoa Armani Code For Men EDT Giorgio Armani 2.750.000\n",
      "Nước hoa Y EDP Yves Saint Laurent 4.590.000\n",
      "Nước hoa Prada Luna Rossa EDT Prada 3.047.000\n",
      "Nước Hoa Prada Luna Rossa Ocean EDT Prada 3.047.000\n",
      "Nước hoa Giorgio Armani Acqua Di Gio EDP Giorgio Armani 3.949.000\n",
      "Nước hoa Dolce&Gabbana Light Blue Summer Vibes Pour Homme EDT Dolce & Gabbana 3.550.000\n",
      "Nước hoa Scandal Pour Homme Le Parfum EDP Jean Paul Gaultier 3.720.000\n",
      "Nước hoa Dolce&Gabbana K EDT Dolce & Gabbana 3.750.000\n",
      "Nước hoa Versace Eros Parfum Versace 3.388.000\n",
      "Nước hoa Calvin Klein Defy EDP Calvin Klein 3.010.000\n",
      "Nước hoa Jean Paul Gaultier Le Male EDT Xmas Collector 125ml Jean Paul Gaultier 2.550.000\n",
      "Nước hoa Mercedes-Benz Man Bright EDP Mercedes Benz 1.950.000\n",
      "Nước hoa Burberry Hero EDP Burberry 3.580.000\n"
     ]
    }
   ],
   "source": [
    "for item in products:\n",
    "    print(item.name, item.brand, item.price)"
   ]
  }
 ],
 "metadata": {
  "kernelspec": {
   "display_name": "Python 3",
   "language": "python",
   "name": "python3"
  },
  "language_info": {
   "codemirror_mode": {
    "name": "ipython",
    "version": 3
   },
   "file_extension": ".py",
   "mimetype": "text/x-python",
   "name": "python",
   "nbconvert_exporter": "python",
   "pygments_lexer": "ipython3",
   "version": "3.12.0"
  }
 },
 "nbformat": 4,
 "nbformat_minor": 2
}
